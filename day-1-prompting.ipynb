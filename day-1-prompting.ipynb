{
 "cells": [
  {
   "cell_type": "markdown",
   "id": "6904cb60",
   "metadata": {
    "id": "jkxRSYjzA1oX",
    "papermill": {
     "duration": 0.014251,
     "end_time": "2025-04-16T21:30:09.083521",
     "exception": false,
     "start_time": "2025-04-16T21:30:09.069270",
     "status": "completed"
    },
    "tags": []
   },
   "source": [
    "##### Copyright 2025 Google LLC."
   ]
  },
  {
   "cell_type": "code",
   "execution_count": 1,
   "id": "2192d208",
   "metadata": {
    "cellView": "form",
    "execution": {
     "iopub.execute_input": "2025-04-16T21:30:09.113572Z",
     "iopub.status.busy": "2025-04-16T21:30:09.113166Z",
     "iopub.status.idle": "2025-04-16T21:30:09.118990Z",
     "shell.execute_reply": "2025-04-16T21:30:09.118008Z"
    },
    "id": "5u5OZ2ShA3BA",
    "jupyter": {
     "source_hidden": true
    },
    "papermill": {
     "duration": 0.023071,
     "end_time": "2025-04-16T21:30:09.121464",
     "exception": false,
     "start_time": "2025-04-16T21:30:09.098393",
     "status": "completed"
    },
    "tags": []
   },
   "outputs": [],
   "source": [
    "# @title Licensed under the Apache License, Version 2.0 (the \"License\");\n",
    "# you may not use this file except in compliance with the License.\n",
    "# You may obtain a copy of the License at\n",
    "#\n",
    "# https://www.apache.org/licenses/LICENSE-2.0\n",
    "#\n",
    "# Unless required by applicable law or agreed to in writing, software\n",
    "# distributed under the License is distributed on an \"AS IS\" BASIS,\n",
    "# WITHOUT WARRANTIES OR CONDITIONS OF ANY KIND, either express or implied.\n",
    "# See the License for the specific language governing permissions and\n",
    "# limitations under the License."
   ]
  },
  {
   "cell_type": "markdown",
   "id": "5edc3597",
   "metadata": {
    "id": "csNPnkuCobmG",
    "papermill": {
     "duration": 0.012427,
     "end_time": "2025-04-16T21:30:09.147076",
     "exception": false,
     "start_time": "2025-04-16T21:30:09.134649",
     "status": "completed"
    },
    "tags": []
   },
   "source": [
    "# Day 1 - Prompting\n",
    "\n",
    "Welcome to the Kaggle 5-day Generative AI course!\n",
    "\n",
    "This notebook will show you how to get started with the Gemini API and walk you through some of the example prompts and techniques that you can also read about in the Prompting whitepaper. You don't need to read the whitepaper to use this notebook, but the papers will give you some theoretical context and background to complement this interactive notebook.\n",
    "\n",
    "\n",
    "## Before you begin\n",
    "\n",
    "In this notebook, you'll start exploring prompting using the Python SDK and AI Studio. For some inspiration, you might enjoy exploring some apps that have been built using the Gemini family of models. Here are a few that we like, and we think you will too.\n",
    "\n",
    "* [TextFX](https://textfx.withgoogle.com/) is a suite of AI-powered tools for rappers, made in collaboration with Lupe Fiasco,\n",
    "* [SQL Talk](https://sql-talk-r5gdynozbq-uc.a.run.app/) shows how you can talk directly to a database using the Gemini API,\n",
    "* [NotebookLM](https://notebooklm.google/) uses Gemini models to build your own personal AI research assistant.\n",
    "\n",
    "\n",
    "## For help\n",
    "\n",
    "**Common issues are covered in the [FAQ and troubleshooting guide](https://www.kaggle.com/code/markishere/day-0-troubleshooting-and-faqs).**\n",
    "\n",
    "## New for Gemini 2.0!\n",
    "\n",
    "This course material was first launched in November 2024. The AI and LLM space is moving incredibly fast, so we have made some updates to use the latest models and capabilities.\n",
    "\n",
    "* These codelabs have been updated to use the Gemini 2.0 family of models.\n",
    "* The Python SDK has been updated from `google-generativeai` to the new, unified [`google-genai`](https://pypi.org/project/google-genai) SDK.\n",
    "  * This new SDK works with both the developer Gemini API as well as Google Cloud Vertex AI, and switching is [as simple as changing some fields](https://pypi.org/project/google-genai/#:~:text=.Client%28%29-,API%20Selection,-By%20default%2C%20the).\n",
    "* New model capabilities have been added to the relevant codelabs, such as \"thinking mode\" in this lab.\n",
    "* Day 1 includes a new [Evaluation codelab](https://www.kaggle.com/code/markishere/day-1-evaluation-and-structured-output)."
   ]
  },
  {
   "attachments": {
    "d8299597-f771-4195-ac94-1d6f658ef2bd.png": {
     "image/png": "[encoded data removed]"
    },
    "ed25e346-2e15-4ab0-bc22-503eb1845e66.png": {
     "image/png": "[encoded data removed]"
    }
   },
   "cell_type": "markdown",
   "id": "13b31eb2",
   "metadata": {
    "id": "f00ea7c99e44",
    "papermill": {
     "duration": 0.013027,
     "end_time": "2025-04-16T21:30:09.172804",
     "exception": false,
     "start_time": "2025-04-16T21:30:09.159777",
     "status": "completed"
    },
    "tags": []
   },
   "source": [
    "## Get started with Kaggle notebooks\n",
    "\n",
    "If this is your first time using a Kaggle notebook, welcome! You can read about how to use Kaggle notebooks [in the docs](https://www.kaggle.com/docs/notebooks).\n",
    "\n",
    "First, you will need to phone verify your account at kaggle.com/settings.\n",
    "\n",
    "![](https://storage.googleapis.com/kaggle-media/Images/5dgai_0.png)"
   ]
  },
  {
   "cell_type": "markdown",
   "id": "7a93876d",
   "metadata": {
    "papermill": {
     "duration": 0.013185,
     "end_time": "2025-04-16T21:30:09.198915",
     "exception": false,
     "start_time": "2025-04-16T21:30:09.185730",
     "status": "completed"
    },
    "tags": []
   },
   "source": [
    "To run this notebook, as well as the others in this course, you will need to make a copy, or fork, the notebook. Look for the `Copy and Edit` button in the top-right, and **click it** to make an editable, private copy of the notebook. It should look like this one:\n",
    "\n",
    "![Copy and Edit button](https://storage.googleapis.com/kaggle-media/Images/5gdai_sc_1.png)\n",
    "\n",
    "Your copy will now have a ▶️ **Run** button next to each code cell that you can press to execute that cell. These notebooks are expected to be run in order from top-to-bottom, but you are encouraged to add new cells, run your own code and explore. If you get stuck, you can try the `Factory reset` option in the `Run` menu, or head back to the original notebook and make a fresh copy.\n",
    "\n",
    "![Run cell button](https://storage.googleapis.com/kaggle-media/Images/5gdai_sc_2.png)\n",
    "\n",
    "### Problems?\n",
    "\n",
    "If you have any problems, head over to the [Kaggle Discord](https://discord.com/invite/kaggle), find the [`#5dgai-q-and-a` channel](https://discord.com/channels/1101210829807956100/1303438695143178251) and ask for help."
   ]
  },
  {
   "cell_type": "markdown",
   "id": "a88861aa",
   "metadata": {
    "id": "ExkOXcPxtTb5",
    "papermill": {
     "duration": 0.013092,
     "end_time": "2025-04-16T21:30:09.224890",
     "exception": false,
     "start_time": "2025-04-16T21:30:09.211798",
     "status": "completed"
    },
    "tags": []
   },
   "source": [
    "## Get started with the Gemini API\n",
    "\n",
    "All of the exercises in this notebook will use the [Gemini API](https://ai.google.dev/gemini-api/) by way of the [Python SDK](https://pypi.org/project/google-genai/). Each of these prompts can be accessed directly in [Google AI Studio](https://aistudio.google.com/) too, so if you would rather use a web interface and skip the code for this activity, look for the <img src=\"https://ai.google.dev/site-assets/images/marketing/home/icon-ais.png\" style=\"height: 24px\" height=24/> AI Studio link on each prompt."
   ]
  },
  {
   "cell_type": "markdown",
   "id": "b027d228",
   "metadata": {
    "papermill": {
     "duration": 0.012457,
     "end_time": "2025-04-16T21:30:09.250906",
     "exception": false,
     "start_time": "2025-04-16T21:30:09.238449",
     "status": "completed"
    },
    "tags": []
   },
   "source": [
    "Next, you will need to add your API key to your Kaggle Notebook as a Kaggle User Secret.\n",
    "\n",
    "![](https://storage.googleapis.com/kaggle-media/Images/5dgai_1.png)\n",
    "![](https://storage.googleapis.com/kaggle-media/Images/5dgai_2.png)\n",
    "![](https://storage.googleapis.com/kaggle-media/Images/5dgai_3.png)\n",
    "![](https://storage.googleapis.com/kaggle-media/Images/5dgai_4.png)"
   ]
  },
  {
   "cell_type": "markdown",
   "id": "1fb70d3a",
   "metadata": {
    "id": "UAjUV3BsvFXQ",
    "papermill": {
     "duration": 0.012824,
     "end_time": "2025-04-16T21:30:09.277332",
     "exception": false,
     "start_time": "2025-04-16T21:30:09.264508",
     "status": "completed"
    },
    "tags": []
   },
   "source": [
    "### Install the SDK"
   ]
  },
  {
   "cell_type": "code",
   "execution_count": 2,
   "id": "4419b0fd",
   "metadata": {
    "execution": {
     "iopub.execute_input": "2025-04-16T21:30:09.305474Z",
     "iopub.status.busy": "2025-04-16T21:30:09.305026Z",
     "iopub.status.idle": "2025-04-16T21:30:30.293156Z",
     "shell.execute_reply": "2025-04-16T21:30:30.291620Z"
    },
    "id": "NzwzJFU9LqkJ",
    "papermill": {
     "duration": 21.00501,
     "end_time": "2025-04-16T21:30:30.295507",
     "exception": false,
     "start_time": "2025-04-16T21:30:09.290497",
     "status": "completed"
    },
    "tags": []
   },
   "outputs": [],
   "source": [
    "!pip uninstall -qqy jupyterlab  # Remove unused packages from Kaggle's base image that conflict\n",
    "!pip install -U -q \"google-genai==1.7.0\""
   ]
  },
  {
   "cell_type": "markdown",
   "id": "4a528d14",
   "metadata": {
    "papermill": {
     "duration": 0.012709,
     "end_time": "2025-04-16T21:30:30.321072",
     "exception": false,
     "start_time": "2025-04-16T21:30:30.308363",
     "status": "completed"
    },
    "tags": []
   },
   "source": [
    "Import the SDK and some helpers for rendering the output."
   ]
  },
  {
   "cell_type": "code",
   "execution_count": 3,
   "id": "d02d1df4",
   "metadata": {
    "execution": {
     "iopub.execute_input": "2025-04-16T21:30:30.348467Z",
     "iopub.status.busy": "2025-04-16T21:30:30.348071Z",
     "iopub.status.idle": "2025-04-16T21:30:31.835342Z",
     "shell.execute_reply": "2025-04-16T21:30:31.834269Z"
    },
    "id": "5DwxYIRavMST",
    "papermill": {
     "duration": 1.504113,
     "end_time": "2025-04-16T21:30:31.837929",
     "exception": false,
     "start_time": "2025-04-16T21:30:30.333816",
     "status": "completed"
    },
    "tags": []
   },
   "outputs": [],
   "source": [
    "from google import genai\n",
    "from google.genai import types\n",
    "\n",
    "from IPython.display import HTML, Markdown, display"
   ]
  },
  {
   "cell_type": "markdown",
   "id": "1ef32d2d",
   "metadata": {
    "papermill": {
     "duration": 0.012465,
     "end_time": "2025-04-16T21:30:31.863778",
     "exception": false,
     "start_time": "2025-04-16T21:30:31.851313",
     "status": "completed"
    },
    "tags": []
   },
   "source": [
    "Set up a retry helper. This allows you to \"Run all\" without worrying about per-minute quota."
   ]
  },
  {
   "cell_type": "code",
   "execution_count": 4,
   "id": "5799c029",
   "metadata": {
    "execution": {
     "iopub.execute_input": "2025-04-16T21:30:31.892468Z",
     "iopub.status.busy": "2025-04-16T21:30:31.891855Z",
     "iopub.status.idle": "2025-04-16T21:30:32.148438Z",
     "shell.execute_reply": "2025-04-16T21:30:32.147259Z"
    },
    "papermill": {
     "duration": 0.274322,
     "end_time": "2025-04-16T21:30:32.150926",
     "exception": false,
     "start_time": "2025-04-16T21:30:31.876604",
     "status": "completed"
    },
    "tags": []
   },
   "outputs": [],
   "source": [
    "from google.api_core import retry\n",
    "\n",
    "\n",
    "is_retriable = lambda e: (isinstance(e, genai.errors.APIError) and e.code in {429, 503})\n",
    "\n",
    "genai.models.Models.generate_content = retry.Retry(\n",
    "    predicate=is_retriable)(genai.models.Models.generate_content)"
   ]
  },
  {
   "cell_type": "markdown",
   "id": "462fc081",
   "metadata": {
    "id": "DNEt2BCOvOJ1",
    "papermill": {
     "duration": 0.012922,
     "end_time": "2025-04-16T21:30:32.176726",
     "exception": false,
     "start_time": "2025-04-16T21:30:32.163804",
     "status": "completed"
    },
    "tags": []
   },
   "source": [
    "### Set up your API key\n",
    "\n",
    "To run the following cell, your API key must be stored it in a [Kaggle secret](https://www.kaggle.com/discussions/product-feedback/114053) named `GOOGLE_API_KEY`.\n",
    "\n",
    "If you don't already have an API key, you can grab one from [AI Studio](https://aistudio.google.com/app/apikey). You can find [detailed instructions in the docs](https://ai.google.dev/gemini-api/docs/api-key).\n",
    "\n",
    "To make the key available through Kaggle secrets, choose `Secrets` from the `Add-ons` menu and follow the instructions to add your key or enable it for this notebook."
   ]
  },
  {
   "cell_type": "code",
   "execution_count": 5,
   "id": "a08c1026",
   "metadata": {
    "execution": {
     "iopub.execute_input": "2025-04-16T21:30:32.204996Z",
     "iopub.status.busy": "2025-04-16T21:30:32.204457Z",
     "iopub.status.idle": "2025-04-16T21:30:32.310799Z",
     "shell.execute_reply": "2025-04-16T21:30:32.309729Z"
    },
    "id": "SHl0bkPCvayd",
    "papermill": {
     "duration": 0.123038,
     "end_time": "2025-04-16T21:30:32.313428",
     "exception": false,
     "start_time": "2025-04-16T21:30:32.190390",
     "status": "completed"
    },
    "tags": []
   },
   "outputs": [],
   "source": [
    "from kaggle_secrets import UserSecretsClient\n",
    "\n",
    "GOOGLE_API_KEY = UserSecretsClient().get_secret(\"Google_API_key\")"
   ]
  },
  {
   "attachments": {
    "d2be9aab-2527-48af-b6cf-1f06cdd7c3a7.png": {
     "image/png": "[encoded data removed]"
    }
   },
   "cell_type": "markdown",
   "id": "54119c47",
   "metadata": {
    "id": "4e720472fd86",
    "papermill": {
     "duration": 0.012498,
     "end_time": "2025-04-16T21:30:32.339510",
     "exception": false,
     "start_time": "2025-04-16T21:30:32.327012",
     "status": "completed"
    },
    "tags": []
   },
   "source": [
    "If you received an error response along the lines of `No user secrets exist for kernel id ...`, then you need to add your API key via `Add-ons`, `Secrets` **and** enable it.\n",
    "\n",
    "![Screenshot of the checkbox to enable GOOGLE_API_KEY secret](https://storage.googleapis.com/kaggle-media/Images/5gdai_sc_3.png)"
   ]
  },
  {
   "cell_type": "markdown",
   "id": "a338aea3",
   "metadata": {
    "id": "H_YXCYIKvyZJ",
    "papermill": {
     "duration": 0.01235,
     "end_time": "2025-04-16T21:30:32.364813",
     "exception": false,
     "start_time": "2025-04-16T21:30:32.352463",
     "status": "completed"
    },
    "tags": []
   },
   "source": [
    "### Run your first prompt\n",
    "\n",
    "In this step, you will test that your API key is set up correctly by making a request.\n",
    "\n",
    "The Python SDK uses a [`Client` object](https://googleapis.github.io/python-genai/genai.html#genai.client.Client) to make requests to the API. The client lets you control which back-end to use (between the Gemini API and Vertex AI) and handles authentication (the API key).\n",
    "\n",
    "The `gemini-2.0-flash` model has been selected here.\n",
    "\n",
    "**Note**: If you see a `TransportError` on this step, you may need to **🔁 Factory reset** the notebook one time."
   ]
  },
  {
   "cell_type": "code",
   "execution_count": 6,
   "id": "6df82d3c",
   "metadata": {
    "execution": {
     "iopub.execute_input": "2025-04-16T21:30:32.394947Z",
     "iopub.status.busy": "2025-04-16T21:30:32.394557Z",
     "iopub.status.idle": "2025-04-16T21:30:35.763451Z",
     "shell.execute_reply": "2025-04-16T21:30:35.762095Z"
    },
    "id": "BV1o0PmcvyJF",
    "papermill": {
     "duration": 3.388167,
     "end_time": "2025-04-16T21:30:35.766005",
     "exception": false,
     "start_time": "2025-04-16T21:30:32.377838",
     "status": "completed"
    },
    "tags": []
   },
   "outputs": [
    {
     "name": "stdout",
     "output_type": "stream",
     "text": [
      "Okay, imagine you have a really, really smart puppy. But this puppy doesn't know anything yet!  That puppy is like AI.\n",
      "\n",
      "AI stands for **Artificial Intelligence**, which is a fancy way of saying \"making computers smart.\"\n",
      "\n",
      "Think about how you learn things:\n",
      "\n",
      "*   You see a dog, your parents say \"dog,\" and you learn what a dog is.\n",
      "*   You touch something hot, and you learn not to touch it again.\n",
      "\n",
      "AI learns kind of the same way, but with lots and lots and lots of examples!\n",
      "\n",
      "**Here's how it works:**\n",
      "\n",
      "1.  **We give the computer lots of information.** Like tons of pictures of dogs, cats, and birds.\n",
      "2.  **The computer looks for patterns.** It starts to notice that dogs have pointy ears and wagging tails.\n",
      "3.  **The computer makes a guess.** If you show it a new picture, it might guess \"dog!\"\n",
      "4.  **We tell the computer if it's right or wrong.**  If it says \"dog\" and it's a cat, we say \"No, that's a cat!\"\n",
      "5.  **The computer learns from its mistakes and gets better.** It remembers what cats and dogs look like, so next time it's more likely to be right!\n",
      "\n",
      "**So, what can AI do?**\n",
      "\n",
      "*   **Recognize your voice:** Like when you ask Siri or Alexa to play your favorite song.\n",
      "*   **Recommend shows you might like:** Like Netflix knowing what movies to suggest.\n",
      "*   **Play games:** Some AI can even beat the best chess players in the world!\n",
      "*   **Drive cars:**  Some cars are getting smart enough to drive themselves!\n",
      "*   **Help doctors:** AI can even help doctors find diseases faster.\n",
      "\n",
      "**Important things to remember about AI:**\n",
      "\n",
      "*   **AI is still learning!** It's not perfect, and it sometimes makes mistakes.\n",
      "*   **AI doesn't have feelings.** It's just a computer program that is really good at certain things.\n",
      "*   **People make AI.**  We teach it what to do.\n",
      "\n",
      "So, AI is like a really smart student who learns by looking at lots of examples and practicing! It's still new, but it's already helping us in lots of cool ways.\n",
      "\n"
     ]
    }
   ],
   "source": [
    "client = genai.Client(api_key=GOOGLE_API_KEY)\n",
    "\n",
    "response = client.models.generate_content(\n",
    "    model=\"gemini-2.0-flash\",\n",
    "    contents=\"Explain AI to me like I'm a kid.\")\n",
    "\n",
    "print(response.text)"
   ]
  },
  {
   "cell_type": "code",
   "execution_count": 7,
   "id": "4ea3fc5f",
   "metadata": {
    "execution": {
     "iopub.execute_input": "2025-04-16T21:30:35.795518Z",
     "iopub.status.busy": "2025-04-16T21:30:35.795097Z",
     "iopub.status.idle": "2025-04-16T21:30:35.803321Z",
     "shell.execute_reply": "2025-04-16T21:30:35.802183Z"
    },
    "papermill": {
     "duration": 0.026163,
     "end_time": "2025-04-16T21:30:35.805809",
     "exception": false,
     "start_time": "2025-04-16T21:30:35.779646",
     "status": "completed"
    },
    "tags": []
   },
   "outputs": [
    {
     "data": {
      "text/markdown": [
       "Okay, imagine you have a really, really smart puppy. But this puppy doesn't know anything yet!  That puppy is like AI.\n",
       "\n",
       "AI stands for **Artificial Intelligence**, which is a fancy way of saying \"making computers smart.\"\n",
       "\n",
       "Think about how you learn things:\n",
       "\n",
       "*   You see a dog, your parents say \"dog,\" and you learn what a dog is.\n",
       "*   You touch something hot, and you learn not to touch it again.\n",
       "\n",
       "AI learns kind of the same way, but with lots and lots and lots of examples!\n",
       "\n",
       "**Here's how it works:**\n",
       "\n",
       "1.  **We give the computer lots of information.** Like tons of pictures of dogs, cats, and birds.\n",
       "2.  **The computer looks for patterns.** It starts to notice that dogs have pointy ears and wagging tails.\n",
       "3.  **The computer makes a guess.** If you show it a new picture, it might guess \"dog!\"\n",
       "4.  **We tell the computer if it's right or wrong.**  If it says \"dog\" and it's a cat, we say \"No, that's a cat!\"\n",
       "5.  **The computer learns from its mistakes and gets better.** It remembers what cats and dogs look like, so next time it's more likely to be right!\n",
       "\n",
       "**So, what can AI do?**\n",
       "\n",
       "*   **Recognize your voice:** Like when you ask Siri or Alexa to play your favorite song.\n",
       "*   **Recommend shows you might like:** Like Netflix knowing what movies to suggest.\n",
       "*   **Play games:** Some AI can even beat the best chess players in the world!\n",
       "*   **Drive cars:**  Some cars are getting smart enough to drive themselves!\n",
       "*   **Help doctors:** AI can even help doctors find diseases faster.\n",
       "\n",
       "**Important things to remember about AI:**\n",
       "\n",
       "*   **AI is still learning!** It's not perfect, and it sometimes makes mistakes.\n",
       "*   **AI doesn't have feelings.** It's just a computer program that is really good at certain things.\n",
       "*   **People make AI.**  We teach it what to do.\n",
       "\n",
       "So, AI is like a really smart student who learns by looking at lots of examples and practicing! It's still new, but it's already helping us in lots of cool ways.\n"
      ],
      "text/plain": [
       "<IPython.core.display.Markdown object>"
      ]
     },
     "execution_count": 7,
     "metadata": {},
     "output_type": "execute_result"
    }
   ],
   "source": [
    "Markdown(response.text)"
   ]
  },
  {
   "cell_type": "code",
   "execution_count": 8,
   "id": "03d36e39",
   "metadata": {
    "execution": {
     "iopub.execute_input": "2025-04-16T21:30:35.834282Z",
     "iopub.status.busy": "2025-04-16T21:30:35.833896Z",
     "iopub.status.idle": "2025-04-16T21:30:38.755051Z",
     "shell.execute_reply": "2025-04-16T21:30:38.753677Z"
    },
    "papermill": {
     "duration": 2.93981,
     "end_time": "2025-04-16T21:30:38.759098",
     "exception": false,
     "start_time": "2025-04-16T21:30:35.819288",
     "status": "completed"
    },
    "tags": []
   },
   "outputs": [
    {
     "name": "stdout",
     "output_type": "stream",
     "text": [
      "Defining \"big tech\" can be subjective, but here's a list of 10 companies commonly considered to be the largest and most influential in the tech industry, based on market capitalization, revenue, and global impact:\n",
      "\n",
      "1.  **Apple (AAPL)**:  Consumer electronics, software, and online services.\n",
      "\n",
      "2.  **Microsoft (MSFT)**: Software, cloud computing, gaming, and hardware.\n",
      "\n",
      "3.  **Alphabet (GOOGL/GOOG)**: (Google) Search, advertising, cloud computing, software, and hardware.\n",
      "\n",
      "4.  **Amazon (AMZN)**: E-commerce, cloud computing, digital advertising, and streaming.\n",
      "\n",
      "5.  **NVIDIA (NVDA)**: Graphics processing units (GPUs), artificial intelligence, and data center solutions.\n",
      "\n",
      "6.  **Meta Platforms (META)**: (Facebook, Instagram, WhatsApp) Social media, virtual reality, and advertising.\n",
      "\n",
      "7.  **Tesla (TSLA)**: Electric vehicles, energy storage, and solar products.\n",
      "\n",
      "8.  **Taiwan Semiconductor Manufacturing (TSM)**: Semiconductor manufacturing.  While less consumer-facing, TSM is a crucial lynchpin of the tech world.\n",
      "\n",
      "9.  **Broadcom (AVGO)**:  Semiconductor and infrastructure software solutions.\n",
      "\n",
      "10. **Oracle (ORCL)**:  Cloud computing, enterprise software, and databases.\n",
      "\n",
      "**Important Considerations:**\n",
      "\n",
      "*   **Ranking Fluctuations:** Market capitalization and other metrics change constantly, so the precise order might vary depending on the day you check.\n",
      "*   **Definition of \"Tech\":** Some might argue about whether certain companies *strictly* fit the definition of a \"tech company,\" especially those heavily involved in manufacturing or retail.\n",
      "*   **Other Contenders:**  Depending on the criteria, companies like Tencent, Samsung, ASML, or ASML could also be considered.\n",
      "*   **Geographic Focus:** This list is primarily U.S.-centric. A global list would include more companies from Asia and Europe.\n"
     ]
    }
   ],
   "source": [
    "client = genai.Client(api_key=GOOGLE_API_KEY)\n",
    "\n",
    "response = client.models.generate_content(\n",
    "    model = \"gemini-2.0-flash\",\n",
    "    contents=\"List the 10 big tech companies\"\n",
    ")\n",
    "print(response.text)"
   ]
  },
  {
   "cell_type": "markdown",
   "id": "80c18949",
   "metadata": {
    "id": "f60ed9d8ae41",
    "papermill": {
     "duration": 0.013639,
     "end_time": "2025-04-16T21:30:38.790803",
     "exception": false,
     "start_time": "2025-04-16T21:30:38.777164",
     "status": "completed"
    },
    "tags": []
   },
   "source": [
    "The response often comes back in markdown format, which you can render directly in this notebook."
   ]
  },
  {
   "cell_type": "code",
   "execution_count": 9,
   "id": "2f99c0bb",
   "metadata": {
    "execution": {
     "iopub.execute_input": "2025-04-16T21:30:38.820926Z",
     "iopub.status.busy": "2025-04-16T21:30:38.820511Z",
     "iopub.status.idle": "2025-04-16T21:30:38.827634Z",
     "shell.execute_reply": "2025-04-16T21:30:38.826438Z"
    },
    "id": "c933e5e460a5",
    "papermill": {
     "duration": 0.025705,
     "end_time": "2025-04-16T21:30:38.829751",
     "exception": false,
     "start_time": "2025-04-16T21:30:38.804046",
     "status": "completed"
    },
    "tags": []
   },
   "outputs": [
    {
     "data": {
      "text/markdown": [
       "Defining \"big tech\" can be subjective, but here's a list of 10 companies commonly considered to be the largest and most influential in the tech industry, based on market capitalization, revenue, and global impact:\n",
       "\n",
       "1.  **Apple (AAPL)**:  Consumer electronics, software, and online services.\n",
       "\n",
       "2.  **Microsoft (MSFT)**: Software, cloud computing, gaming, and hardware.\n",
       "\n",
       "3.  **Alphabet (GOOGL/GOOG)**: (Google) Search, advertising, cloud computing, software, and hardware.\n",
       "\n",
       "4.  **Amazon (AMZN)**: E-commerce, cloud computing, digital advertising, and streaming.\n",
       "\n",
       "5.  **NVIDIA (NVDA)**: Graphics processing units (GPUs), artificial intelligence, and data center solutions.\n",
       "\n",
       "6.  **Meta Platforms (META)**: (Facebook, Instagram, WhatsApp) Social media, virtual reality, and advertising.\n",
       "\n",
       "7.  **Tesla (TSLA)**: Electric vehicles, energy storage, and solar products.\n",
       "\n",
       "8.  **Taiwan Semiconductor Manufacturing (TSM)**: Semiconductor manufacturing.  While less consumer-facing, TSM is a crucial lynchpin of the tech world.\n",
       "\n",
       "9.  **Broadcom (AVGO)**:  Semiconductor and infrastructure software solutions.\n",
       "\n",
       "10. **Oracle (ORCL)**:  Cloud computing, enterprise software, and databases.\n",
       "\n",
       "**Important Considerations:**\n",
       "\n",
       "*   **Ranking Fluctuations:** Market capitalization and other metrics change constantly, so the precise order might vary depending on the day you check.\n",
       "*   **Definition of \"Tech\":** Some might argue about whether certain companies *strictly* fit the definition of a \"tech company,\" especially those heavily involved in manufacturing or retail.\n",
       "*   **Other Contenders:**  Depending on the criteria, companies like Tencent, Samsung, ASML, or ASML could also be considered.\n",
       "*   **Geographic Focus:** This list is primarily U.S.-centric. A global list would include more companies from Asia and Europe."
      ],
      "text/plain": [
       "<IPython.core.display.Markdown object>"
      ]
     },
     "execution_count": 9,
     "metadata": {},
     "output_type": "execute_result"
    }
   ],
   "source": [
    "Markdown(response.text)"
   ]
  },
  {
   "cell_type": "markdown",
   "id": "d7945f9c",
   "metadata": {
    "id": "byx0pT9ZMW2Q",
    "papermill": {
     "duration": 0.013557,
     "end_time": "2025-04-16T21:30:38.857282",
     "exception": false,
     "start_time": "2025-04-16T21:30:38.843725",
     "status": "completed"
    },
    "tags": []
   },
   "source": [
    "### Start a chat\n",
    "\n",
    "The previous example uses a single-turn, text-in/text-out structure, but you can also set up a multi-turn chat structure too."
   ]
  },
  {
   "cell_type": "code",
   "execution_count": 10,
   "id": "4d0f20f1",
   "metadata": {
    "execution": {
     "iopub.execute_input": "2025-04-16T21:30:38.887740Z",
     "iopub.status.busy": "2025-04-16T21:30:38.887321Z",
     "iopub.status.idle": "2025-04-16T21:30:39.345305Z",
     "shell.execute_reply": "2025-04-16T21:30:39.343955Z"
    },
    "id": "lV_S5ZL5MidD",
    "papermill": {
     "duration": 0.475539,
     "end_time": "2025-04-16T21:30:39.347675",
     "exception": false,
     "start_time": "2025-04-16T21:30:38.872136",
     "status": "completed"
    },
    "tags": []
   },
   "outputs": [
    {
     "name": "stdout",
     "output_type": "stream",
     "text": [
      "Hello Jash! It's nice to meet you. How can I help you today?\n",
      "\n"
     ]
    }
   ],
   "source": [
    "chat = client.chats.create(model='gemini-2.0-flash', history=[])\n",
    "response = chat.send_message('Hello! My name is Jash.')\n",
    "print(response.text)"
   ]
  },
  {
   "cell_type": "code",
   "execution_count": 11,
   "id": "092b6c6e",
   "metadata": {
    "execution": {
     "iopub.execute_input": "2025-04-16T21:30:39.376487Z",
     "iopub.status.busy": "2025-04-16T21:30:39.376012Z",
     "iopub.status.idle": "2025-04-16T21:30:45.180414Z",
     "shell.execute_reply": "2025-04-16T21:30:45.179295Z"
    },
    "id": "7b0372c3c64a",
    "papermill": {
     "duration": 5.821866,
     "end_time": "2025-04-16T21:30:45.183161",
     "exception": false,
     "start_time": "2025-04-16T21:30:39.361295",
     "status": "completed"
    },
    "tags": []
   },
   "outputs": [
    {
     "name": "stdout",
     "output_type": "stream",
     "text": [
      "Okay, Jash, let's talk about liquid financial investments. Here's a breakdown of what they are, their characteristics, some examples, and a few pros and cons:\n",
      "\n",
      "**What are Liquid Financial Investments?**\n",
      "\n",
      "Essentially, a liquid investment is an asset that can be easily and quickly converted into cash with minimal loss of value.  Think of it as being able to access your money with little to no fuss when you need it. The opposite of a liquid asset is an *illiquid* asset, which is difficult to sell quickly without taking a significant price cut (like real estate, for example).\n",
      "\n",
      "**Key Characteristics:**\n",
      "\n",
      "*   **Ease of Conversion:** The primary defining factor is how quickly you can turn the investment into cash.\n",
      "*   **Minimal Loss of Value:** Ideally, you want to sell the investment at or close to its fair market value.  A large price discount to sell quickly diminishes its liquidity.\n",
      "*   **Active Market:**  Liquid investments are typically traded on active, well-established markets.  This ensures there are readily available buyers.\n",
      "*   **Standardized:**  Often, the investment is standardized, making it easier to value and trade.\n",
      "\n",
      "**Examples of Liquid Financial Investments:**\n",
      "\n",
      "*   **Cash:** This is the most liquid asset.\n",
      "*   **Money Market Accounts (MMAs):** Savings accounts that typically offer slightly higher interest rates than regular savings accounts, with limited check-writing abilities.\n",
      "*   **Certificates of Deposit (CDs) with short maturities:**  CDs are time deposits, but those with short terms (e.g., 3 months, 6 months) are considered fairly liquid, although you usually incur a penalty for early withdrawal.\n",
      "*   **Treasury Bills (T-Bills):** Short-term debt obligations backed by the U.S. government, considered very safe and highly liquid.\n",
      "*   **Stocks (shares) of publicly traded companies:**  Especially those of large, well-known companies (e.g., Apple, Microsoft). They are actively traded on major stock exchanges.\n",
      "*   **Bonds (Corporate and Government) with high trading volume:** Bonds issued by large corporations or governments that are frequently traded on the secondary market.\n",
      "*   **Exchange-Traded Funds (ETFs):**  ETFs that track broad market indexes (e.g., S&P 500) or specific sectors are generally very liquid.\n",
      "*   **Mutual Funds (certain types):** Some mutual funds are more liquid than others, but many allow you to redeem shares daily.  The liquidity depends on the underlying assets of the fund.\n",
      "\n",
      "**Pros of Liquid Financial Investments:**\n",
      "\n",
      "*   **Accessibility:** Easy access to your funds when needed for emergencies, opportunities, or unexpected expenses.\n",
      "*   **Flexibility:** You can quickly adjust your investment portfolio based on market conditions or your changing financial goals.\n",
      "*   **Peace of Mind:**  Knowing you can readily access your money provides a sense of security.\n",
      "*   **Opportunity to capitalize on market fluctuations:** Buy low and sell high because you can get in and out easily.\n",
      "\n",
      "**Cons of Liquid Financial Investments:**\n",
      "\n",
      "*   **Lower Potential Returns:**  Generally, more liquid investments offer lower returns compared to less liquid investments (like real estate or private equity) because investors are willing to accept lower returns in exchange for the convenience of liquidity.\n",
      "*   **Inflation Risk:** If the returns on your liquid investments are lower than the inflation rate, the purchasing power of your money can decrease over time.\n",
      "*   **Transaction Costs:** Frequent buying and selling of liquid assets (like stocks) can incur transaction costs (brokerage fees, commissions), which can eat into your returns.\n",
      "*   **Temptation to Spend:**  Easy access to funds can lead to impulsive spending decisions.\n",
      "\n",
      "**Important Considerations:**\n",
      "\n",
      "*   **Investment Goals:**  Your investment goals (e.g., retirement, short-term savings) will influence the appropriate level of liquidity in your portfolio.\n",
      "*   **Risk Tolerance:**  Liquid investments can range from very safe (e.g., T-Bills) to more risky (e.g., stocks).  Choose investments that align with your risk tolerance.\n",
      "*   **Time Horizon:**  If you have a long time horizon, you can generally tolerate less liquidity in your portfolio.\n",
      "*   **Diversification:**  It's generally a good idea to diversify your investments across different asset classes, including both liquid and illiquid assets.\n",
      "\n",
      "**In Summary:**\n",
      "\n",
      "Liquid financial investments are a crucial part of a well-rounded financial plan. They provide easy access to cash when needed, but it's important to balance liquidity with the potential for higher returns.  Consider your individual circumstances, investment goals, and risk tolerance when determining the right mix of liquid and illiquid assets for your portfolio.\n",
      "\n",
      "Do you have any specific questions about any of these types of liquid investments, or would you like to explore any of these points in more detail? For example, are you wondering about the liquidity of a specific stock, or how to decide how much of your portfolio should be in liquid assets?\n",
      "\n"
     ]
    }
   ],
   "source": [
    "response = chat.send_message('Can you tell me something about liquid financial investments?')\n",
    "print(response.text)"
   ]
  },
  {
   "cell_type": "code",
   "execution_count": 12,
   "id": "fe686eb6",
   "metadata": {
    "execution": {
     "iopub.execute_input": "2025-04-16T21:30:45.213259Z",
     "iopub.status.busy": "2025-04-16T21:30:45.212873Z",
     "iopub.status.idle": "2025-04-16T21:30:45.219803Z",
     "shell.execute_reply": "2025-04-16T21:30:45.218742Z"
    },
    "papermill": {
     "duration": 0.02489,
     "end_time": "2025-04-16T21:30:45.222051",
     "exception": false,
     "start_time": "2025-04-16T21:30:45.197161",
     "status": "completed"
    },
    "tags": []
   },
   "outputs": [
    {
     "data": {
      "text/markdown": [
       "Okay, Jash, let's talk about liquid financial investments. Here's a breakdown of what they are, their characteristics, some examples, and a few pros and cons:\n",
       "\n",
       "**What are Liquid Financial Investments?**\n",
       "\n",
       "Essentially, a liquid investment is an asset that can be easily and quickly converted into cash with minimal loss of value.  Think of it as being able to access your money with little to no fuss when you need it. The opposite of a liquid asset is an *illiquid* asset, which is difficult to sell quickly without taking a significant price cut (like real estate, for example).\n",
       "\n",
       "**Key Characteristics:**\n",
       "\n",
       "*   **Ease of Conversion:** The primary defining factor is how quickly you can turn the investment into cash.\n",
       "*   **Minimal Loss of Value:** Ideally, you want to sell the investment at or close to its fair market value.  A large price discount to sell quickly diminishes its liquidity.\n",
       "*   **Active Market:**  Liquid investments are typically traded on active, well-established markets.  This ensures there are readily available buyers.\n",
       "*   **Standardized:**  Often, the investment is standardized, making it easier to value and trade.\n",
       "\n",
       "**Examples of Liquid Financial Investments:**\n",
       "\n",
       "*   **Cash:** This is the most liquid asset.\n",
       "*   **Money Market Accounts (MMAs):** Savings accounts that typically offer slightly higher interest rates than regular savings accounts, with limited check-writing abilities.\n",
       "*   **Certificates of Deposit (CDs) with short maturities:**  CDs are time deposits, but those with short terms (e.g., 3 months, 6 months) are considered fairly liquid, although you usually incur a penalty for early withdrawal.\n",
       "*   **Treasury Bills (T-Bills):** Short-term debt obligations backed by the U.S. government, considered very safe and highly liquid.\n",
       "*   **Stocks (shares) of publicly traded companies:**  Especially those of large, well-known companies (e.g., Apple, Microsoft). They are actively traded on major stock exchanges.\n",
       "*   **Bonds (Corporate and Government) with high trading volume:** Bonds issued by large corporations or governments that are frequently traded on the secondary market.\n",
       "*   **Exchange-Traded Funds (ETFs):**  ETFs that track broad market indexes (e.g., S&P 500) or specific sectors are generally very liquid.\n",
       "*   **Mutual Funds (certain types):** Some mutual funds are more liquid than others, but many allow you to redeem shares daily.  The liquidity depends on the underlying assets of the fund.\n",
       "\n",
       "**Pros of Liquid Financial Investments:**\n",
       "\n",
       "*   **Accessibility:** Easy access to your funds when needed for emergencies, opportunities, or unexpected expenses.\n",
       "*   **Flexibility:** You can quickly adjust your investment portfolio based on market conditions or your changing financial goals.\n",
       "*   **Peace of Mind:**  Knowing you can readily access your money provides a sense of security.\n",
       "*   **Opportunity to capitalize on market fluctuations:** Buy low and sell high because you can get in and out easily.\n",
       "\n",
       "**Cons of Liquid Financial Investments:**\n",
       "\n",
       "*   **Lower Potential Returns:**  Generally, more liquid investments offer lower returns compared to less liquid investments (like real estate or private equity) because investors are willing to accept lower returns in exchange for the convenience of liquidity.\n",
       "*   **Inflation Risk:** If the returns on your liquid investments are lower than the inflation rate, the purchasing power of your money can decrease over time.\n",
       "*   **Transaction Costs:** Frequent buying and selling of liquid assets (like stocks) can incur transaction costs (brokerage fees, commissions), which can eat into your returns.\n",
       "*   **Temptation to Spend:**  Easy access to funds can lead to impulsive spending decisions.\n",
       "\n",
       "**Important Considerations:**\n",
       "\n",
       "*   **Investment Goals:**  Your investment goals (e.g., retirement, short-term savings) will influence the appropriate level of liquidity in your portfolio.\n",
       "*   **Risk Tolerance:**  Liquid investments can range from very safe (e.g., T-Bills) to more risky (e.g., stocks).  Choose investments that align with your risk tolerance.\n",
       "*   **Time Horizon:**  If you have a long time horizon, you can generally tolerate less liquidity in your portfolio.\n",
       "*   **Diversification:**  It's generally a good idea to diversify your investments across different asset classes, including both liquid and illiquid assets.\n",
       "\n",
       "**In Summary:**\n",
       "\n",
       "Liquid financial investments are a crucial part of a well-rounded financial plan. They provide easy access to cash when needed, but it's important to balance liquidity with the potential for higher returns.  Consider your individual circumstances, investment goals, and risk tolerance when determining the right mix of liquid and illiquid assets for your portfolio.\n",
       "\n",
       "Do you have any specific questions about any of these types of liquid investments, or would you like to explore any of these points in more detail? For example, are you wondering about the liquidity of a specific stock, or how to decide how much of your portfolio should be in liquid assets?\n"
      ],
      "text/plain": [
       "<IPython.core.display.Markdown object>"
      ]
     },
     "execution_count": 12,
     "metadata": {},
     "output_type": "execute_result"
    }
   ],
   "source": [
    "Markdown(response.text)"
   ]
  },
  {
   "cell_type": "markdown",
   "id": "c320336b",
   "metadata": {
    "papermill": {
     "duration": 0.01406,
     "end_time": "2025-04-16T21:30:45.250807",
     "exception": false,
     "start_time": "2025-04-16T21:30:45.236747",
     "status": "completed"
    },
    "tags": []
   },
   "source": [
    "While you have the `chat` object alive, the conversation state\n",
    "persists. Confirm that by asking if it knows the user's name."
   ]
  },
  {
   "cell_type": "code",
   "execution_count": 13,
   "id": "ca6910fa",
   "metadata": {
    "execution": {
     "iopub.execute_input": "2025-04-16T21:30:45.281757Z",
     "iopub.status.busy": "2025-04-16T21:30:45.281400Z",
     "iopub.status.idle": "2025-04-16T21:30:45.707151Z",
     "shell.execute_reply": "2025-04-16T21:30:45.705859Z"
    },
    "id": "d3f9591392a7",
    "papermill": {
     "duration": 0.443972,
     "end_time": "2025-04-16T21:30:45.709571",
     "exception": false,
     "start_time": "2025-04-16T21:30:45.265599",
     "status": "completed"
    },
    "tags": []
   },
   "outputs": [
    {
     "name": "stdout",
     "output_type": "stream",
     "text": [
      "Yes, Jash, I remember your name is Jash.\n",
      "\n"
     ]
    }
   ],
   "source": [
    "response = chat.send_message('Do you remember what my name is?')\n",
    "print(response.text)"
   ]
  },
  {
   "cell_type": "markdown",
   "id": "2ef907f9",
   "metadata": {
    "id": "2KAjpr1200sW",
    "papermill": {
     "duration": 0.013678,
     "end_time": "2025-04-16T21:30:45.737364",
     "exception": false,
     "start_time": "2025-04-16T21:30:45.723686",
     "status": "completed"
    },
    "tags": []
   },
   "source": [
    "### Choose a model\n",
    "\n",
    "The Gemini API provides access to a number of models from the Gemini model family. Read about the available models and their capabilities on the [model overview page](https://ai.google.dev/gemini-api/docs/models/gemini).\n",
    "\n",
    "In this step you'll use the API to list all of the available models."
   ]
  },
  {
   "cell_type": "code",
   "execution_count": 14,
   "id": "055a0841",
   "metadata": {
    "execution": {
     "iopub.execute_input": "2025-04-16T21:30:45.766895Z",
     "iopub.status.busy": "2025-04-16T21:30:45.766454Z",
     "iopub.status.idle": "2025-04-16T21:30:45.832788Z",
     "shell.execute_reply": "2025-04-16T21:30:45.831093Z"
    },
    "id": "uUUZa2uq2jDm",
    "papermill": {
     "duration": 0.084022,
     "end_time": "2025-04-16T21:30:45.835369",
     "exception": false,
     "start_time": "2025-04-16T21:30:45.751347",
     "status": "completed"
    },
    "tags": []
   },
   "outputs": [
    {
     "name": "stdout",
     "output_type": "stream",
     "text": [
      "models/chat-bison-001\n",
      "models/text-bison-001\n",
      "models/embedding-gecko-001\n",
      "models/gemini-1.0-pro-vision-latest\n",
      "models/gemini-pro-vision\n",
      "models/gemini-1.5-pro-latest\n",
      "models/gemini-1.5-pro-001\n",
      "models/gemini-1.5-pro-002\n",
      "models/gemini-1.5-pro\n",
      "models/gemini-1.5-flash-latest\n",
      "models/gemini-1.5-flash-001\n",
      "models/gemini-1.5-flash-001-tuning\n",
      "models/gemini-1.5-flash\n",
      "models/gemini-1.5-flash-002\n",
      "models/gemini-1.5-flash-8b\n",
      "models/gemini-1.5-flash-8b-001\n",
      "models/gemini-1.5-flash-8b-latest\n",
      "models/gemini-1.5-flash-8b-exp-0827\n",
      "models/gemini-1.5-flash-8b-exp-0924\n",
      "models/gemini-2.5-pro-exp-03-25\n",
      "models/gemini-2.5-pro-preview-03-25\n",
      "models/gemini-2.0-flash-exp\n",
      "models/gemini-2.0-flash\n",
      "models/gemini-2.0-flash-001\n",
      "models/gemini-2.0-flash-exp-image-generation\n",
      "models/gemini-2.0-flash-lite-001\n",
      "models/gemini-2.0-flash-lite\n",
      "models/gemini-2.0-flash-lite-preview-02-05\n",
      "models/gemini-2.0-flash-lite-preview\n",
      "models/gemini-2.0-pro-exp\n",
      "models/gemini-2.0-pro-exp-02-05\n",
      "models/gemini-exp-1206\n",
      "models/gemini-2.0-flash-thinking-exp-01-21\n",
      "models/gemini-2.0-flash-thinking-exp\n",
      "models/gemini-2.0-flash-thinking-exp-1219\n",
      "models/learnlm-1.5-pro-experimental\n",
      "models/gemma-3-1b-it\n",
      "models/gemma-3-4b-it\n",
      "models/gemma-3-12b-it\n",
      "models/gemma-3-27b-it\n",
      "models/embedding-001\n",
      "models/text-embedding-004\n",
      "models/gemini-embedding-exp-03-07\n",
      "models/gemini-embedding-exp\n",
      "models/aqa\n",
      "models/imagen-3.0-generate-002\n",
      "models/gemini-2.0-flash-live-001\n"
     ]
    }
   ],
   "source": [
    "for model in client.models.list():\n",
    "  print(model.name)"
   ]
  },
  {
   "cell_type": "markdown",
   "id": "23bd4d47",
   "metadata": {
    "id": "rN49kSI54R1v",
    "papermill": {
     "duration": 0.014059,
     "end_time": "2025-04-16T21:30:45.863971",
     "exception": false,
     "start_time": "2025-04-16T21:30:45.849912",
     "status": "completed"
    },
    "tags": []
   },
   "source": [
    "The [`models.list`](https://ai.google.dev/api/models#method:-models.list) response also returns additional information about the model's capabilities, like the token limits and supported parameters."
   ]
  },
  {
   "cell_type": "code",
   "execution_count": 15,
   "id": "f8044ab5",
   "metadata": {
    "execution": {
     "iopub.execute_input": "2025-04-16T21:30:45.893900Z",
     "iopub.status.busy": "2025-04-16T21:30:45.893482Z",
     "iopub.status.idle": "2025-04-16T21:30:46.012850Z",
     "shell.execute_reply": "2025-04-16T21:30:46.011466Z"
    },
    "id": "k7JJ1K6j4Rl8",
    "papermill": {
     "duration": 0.13695,
     "end_time": "2025-04-16T21:30:46.015173",
     "exception": false,
     "start_time": "2025-04-16T21:30:45.878223",
     "status": "completed"
    },
    "tags": []
   },
   "outputs": [
    {
     "name": "stdout",
     "output_type": "stream",
     "text": [
      "{'description': 'Gemini 2.0 Flash',\n",
      " 'display_name': 'Gemini 2.0 Flash',\n",
      " 'input_token_limit': 1048576,\n",
      " 'name': 'models/gemini-2.0-flash',\n",
      " 'output_token_limit': 8192,\n",
      " 'supported_actions': ['generateContent', 'countTokens', 'createCachedContent'],\n",
      " 'tuned_model_info': {},\n",
      " 'version': '2.0'}\n"
     ]
    }
   ],
   "source": [
    "from pprint import pprint\n",
    "\n",
    "for model in client.models.list():\n",
    "  if model.name == 'models/gemini-2.0-flash':\n",
    "    pprint(model.to_json_dict())\n",
    "    break"
   ]
  },
  {
   "cell_type": "markdown",
   "id": "5c0eac96",
   "metadata": {
    "id": "5rU_UBlZdooM",
    "papermill": {
     "duration": 0.014083,
     "end_time": "2025-04-16T21:30:46.043425",
     "exception": false,
     "start_time": "2025-04-16T21:30:46.029342",
     "status": "completed"
    },
    "tags": []
   },
   "source": [
    "## Explore generation parameters\n",
    "\n"
   ]
  },
  {
   "cell_type": "markdown",
   "id": "15cf3298",
   "metadata": {
    "id": "G7NfEizeipbW",
    "papermill": {
     "duration": 0.015024,
     "end_time": "2025-04-16T21:30:46.072953",
     "exception": false,
     "start_time": "2025-04-16T21:30:46.057929",
     "status": "completed"
    },
    "tags": []
   },
   "source": [
    "### Output length\n",
    "\n",
    "When generating text with an LLM, the output length affects cost and performance. Generating more tokens increases computation, leading to higher energy consumption, latency, and cost.\n",
    "\n",
    "To stop the model from generating tokens past a limit, you can specify the `max_output_tokens` parameter when using the Gemini API. Specifying this parameter does not influence the generation of the output tokens, so the output will not become more stylistically or textually succinct, but it will stop generating tokens once the specified length is reached. Prompt engineering may be required to generate a more complete output for your given limit."
   ]
  },
  {
   "cell_type": "code",
   "execution_count": 16,
   "id": "a27c217b",
   "metadata": {
    "execution": {
     "iopub.execute_input": "2025-04-16T21:30:46.104160Z",
     "iopub.status.busy": "2025-04-16T21:30:46.103808Z",
     "iopub.status.idle": "2025-04-16T21:30:47.134018Z",
     "shell.execute_reply": "2025-04-16T21:30:47.132641Z"
    },
    "id": "qVf23JsIi9ma",
    "papermill": {
     "duration": 1.048923,
     "end_time": "2025-04-16T21:30:47.136678",
     "exception": false,
     "start_time": "2025-04-16T21:30:46.087755",
     "status": "completed"
    },
    "tags": []
   },
   "outputs": [
    {
     "name": "stdout",
     "output_type": "stream",
     "text": [
      "The Holocaust, a systematic genocide perpetrated by Nazi Germany during World War II, resulted in the murder of approximately six million Jews. Driven by virulent antisemitism and a belief in racial superiority, the Nazis implemented policies of segregation, persecution, and ultimately, extermination. Jews were rounded up, deported to concentration and extermination camps, and subjected to forced labor, starvation, and mass shootings. The industrialized killing process at camps like Auschwitz-Birkenau, employing gas chambers and crematoria, epitomized the scale and brutality of the Holocaust. This horrific event stands as a stark reminder of the dangers of hatred, prejudice, and the devastating consequences of unchecked power.\n",
      "\n"
     ]
    }
   ],
   "source": [
    "from google.genai import types\n",
    "\n",
    "short_config = types.GenerateContentConfig(max_output_tokens=200)\n",
    "\n",
    "response = client.models.generate_content(\n",
    "    model='gemini-2.0-flash',\n",
    "    config=short_config,\n",
    "    contents='Write a 100 word essay on the jews genocided through holocaust.')\n",
    "\n",
    "print(response.text)"
   ]
  },
  {
   "cell_type": "code",
   "execution_count": 17,
   "id": "7b2a970c",
   "metadata": {
    "execution": {
     "iopub.execute_input": "2025-04-16T21:30:47.170949Z",
     "iopub.status.busy": "2025-04-16T21:30:47.170577Z",
     "iopub.status.idle": "2025-04-16T21:30:48.042176Z",
     "shell.execute_reply": "2025-04-16T21:30:48.040970Z"
    },
    "id": "W-3kR2F5kdMR",
    "papermill": {
     "duration": 0.892493,
     "end_time": "2025-04-16T21:30:48.044572",
     "exception": false,
     "start_time": "2025-04-16T21:30:47.152079",
     "status": "completed"
    },
    "tags": []
   },
   "outputs": [
    {
     "name": "stdout",
     "output_type": "stream",
     "text": [
      "Golden waves, a silent sea,\n",
      "Sahara's dunes, eternally.\n",
      "Wind-swept crests in sun ablaze,\n",
      "A timeless, shifting, sandy maze.\n",
      "\n",
      "Shadows lengthen, cool the night,\n",
      "Beneath the stars, a silver light.\n",
      "Whispers carried on the breeze,\n",
      "Of ancient secrets, 'mongst the trees\n",
      "(That are no trees, but shifting sand,)\n",
      "A lonely, beautiful, and barren land.\n",
      "\n"
     ]
    }
   ],
   "source": [
    "response = client.models.generate_content(\n",
    "    model='gemini-2.0-flash',\n",
    "    config=short_config,\n",
    "    contents='Write a short poem on the dunes of the sahara.')\n",
    "\n",
    "print(response.text)"
   ]
  },
  {
   "cell_type": "markdown",
   "id": "28014a7e",
   "metadata": {
    "id": "3ZhDSLB6lqqB",
    "papermill": {
     "duration": 0.013812,
     "end_time": "2025-04-16T21:30:48.072912",
     "exception": false,
     "start_time": "2025-04-16T21:30:48.059100",
     "status": "completed"
    },
    "tags": []
   },
   "source": [
    "Explore with your own prompts. Try a prompt with a restrictive output limit and then adjust the prompt to work within that limit."
   ]
  },
  {
   "cell_type": "markdown",
   "id": "fca0c55f",
   "metadata": {
    "id": "alx-WaAvir_9",
    "papermill": {
     "duration": 0.014074,
     "end_time": "2025-04-16T21:30:48.101090",
     "exception": false,
     "start_time": "2025-04-16T21:30:48.087016",
     "status": "completed"
    },
    "tags": []
   },
   "source": [
    "### Temperature\n",
    "\n",
    "Temperature controls the degree of randomness in token selection. Higher temperatures result in a higher number of candidate tokens from which the next output token is selected, and can produce more diverse results, while lower temperatures have the opposite effect, such that a temperature of 0 results in greedy decoding, selecting the most probable token at each step.\n",
    "\n",
    "Temperature doesn't provide any guarantees of randomness, but it can be used to \"nudge\" the output somewhat."
   ]
  },
  {
   "cell_type": "code",
   "execution_count": 18,
   "id": "809a4f63",
   "metadata": {
    "execution": {
     "iopub.execute_input": "2025-04-16T21:30:48.132112Z",
     "iopub.status.busy": "2025-04-16T21:30:48.131725Z",
     "iopub.status.idle": "2025-04-16T21:32:06.968032Z",
     "shell.execute_reply": "2025-04-16T21:32:06.966740Z"
    },
    "id": "SHraGMzqnZqt",
    "papermill": {
     "duration": 78.854406,
     "end_time": "2025-04-16T21:32:06.970361",
     "exception": false,
     "start_time": "2025-04-16T21:30:48.115955",
     "status": "completed"
    },
    "tags": []
   },
   "outputs": [
    {
     "name": "stdout",
     "output_type": "stream",
     "text": [
      "Magenta.\n",
      " -------------------------\n",
      "Turquoise\n",
      " -------------------------\n",
      "Orange\n",
      " -------------------------\n",
      "Turquoise\n",
      " -------------------------\n",
      "Turquoise\n",
      " -------------------------\n"
     ]
    }
   ],
   "source": [
    "high_temp_config = types.GenerateContentConfig(temperature=2.0)\n",
    "\n",
    "for _ in range(5):\n",
    "  response = client.models.generate_content(\n",
    "      model='gemini-2.0-flash',\n",
    "      config=high_temp_config,\n",
    "      contents='Pick a random colour... (respond in a single word)')\n",
    "\n",
    "  if response.text:\n",
    "    print(response.text, '-' * 25)"
   ]
  },
  {
   "cell_type": "markdown",
   "id": "5aef80d2",
   "metadata": {
    "id": "z3J4pCTuof7e",
    "papermill": {
     "duration": 0.014632,
     "end_time": "2025-04-16T21:32:07.001027",
     "exception": false,
     "start_time": "2025-04-16T21:32:06.986395",
     "status": "completed"
    },
    "tags": []
   },
   "source": [
    "Now try the same prompt with temperature set to zero. Note that the output is not completely deterministic, as other parameters affect token selection, but the results will tend to be more stable."
   ]
  },
  {
   "cell_type": "code",
   "execution_count": 19,
   "id": "7d38b73b",
   "metadata": {
    "execution": {
     "iopub.execute_input": "2025-04-16T21:32:07.032540Z",
     "iopub.status.busy": "2025-04-16T21:32:07.032129Z",
     "iopub.status.idle": "2025-04-16T21:32:08.974858Z",
     "shell.execute_reply": "2025-04-16T21:32:08.973475Z"
    },
    "id": "clymkWv-PfUZ",
    "papermill": {
     "duration": 1.96107,
     "end_time": "2025-04-16T21:32:08.977443",
     "exception": false,
     "start_time": "2025-04-16T21:32:07.016373",
     "status": "completed"
    },
    "tags": []
   },
   "outputs": [
    {
     "name": "stdout",
     "output_type": "stream",
     "text": [
      "Azure\n",
      " -------------------------\n",
      "Azure\n",
      " -------------------------\n",
      "Azure\n",
      " -------------------------\n",
      "Azure\n",
      " -------------------------\n",
      "Azure\n",
      " -------------------------\n"
     ]
    }
   ],
   "source": [
    "low_temp_config = types.GenerateContentConfig(temperature=0.0)\n",
    "\n",
    "for _ in range(5):\n",
    "  response = client.models.generate_content(\n",
    "      model='gemini-2.0-flash',\n",
    "      config=low_temp_config,\n",
    "      contents='Pick a random colour... (respond in a single word)')\n",
    "\n",
    "  if response.text:\n",
    "    print(response.text, '-' * 25)"
   ]
  },
  {
   "cell_type": "markdown",
   "id": "e08a4f58",
   "metadata": {
    "id": "St5nt3vzitsZ",
    "papermill": {
     "duration": 0.014893,
     "end_time": "2025-04-16T21:32:09.007850",
     "exception": false,
     "start_time": "2025-04-16T21:32:08.992957",
     "status": "completed"
    },
    "tags": []
   },
   "source": [
    "### Top-P\n",
    "\n",
    "Like temperature, the top-P parameter is also used to control the diversity of the model's output.\n",
    "\n",
    "Top-P defines the probability threshold that, once cumulatively exceeded, tokens stop being selected as candidates. A top-P of 0 is typically equivalent to greedy decoding, and a top-P of 1 typically selects every token in the model's vocabulary.\n",
    "\n",
    "You may also see top-K referenced in LLM literature. Top-K is not configurable in the Gemini 2.0 series of models, but can be changed in older models. Top-K is a positive integer that defines the number of most probable tokens from which to select the output token. A top-K of 1 selects a single token, performing greedy decoding.\n",
    "\n",
    "\n",
    "Run this example a number of times, change the settings and observe the change in output."
   ]
  },
  {
   "cell_type": "code",
   "execution_count": 20,
   "id": "53b500e4",
   "metadata": {
    "execution": {
     "iopub.execute_input": "2025-04-16T21:32:09.039876Z",
     "iopub.status.busy": "2025-04-16T21:32:09.039484Z",
     "iopub.status.idle": "2025-04-16T21:32:13.571699Z",
     "shell.execute_reply": "2025-04-16T21:32:13.570685Z"
    },
    "id": "lPlzpEavUV8F",
    "papermill": {
     "duration": 4.551216,
     "end_time": "2025-04-16T21:32:13.574349",
     "exception": false,
     "start_time": "2025-04-16T21:32:09.023133",
     "status": "completed"
    },
    "tags": []
   },
   "outputs": [
    {
     "name": "stdout",
     "output_type": "stream",
     "text": [
      "Clementine, a tabby of discerning taste and a penchant for sunbeams, lived a life of comfortable routine. Breakfast at precisely 7:00 AM, a nap on the floral armchair, a demanding meow for dinner at 6:00 PM, followed by chasing dust bunnies until bedtime. It was, in her opinion, a life of purrfect contentment.\n",
      "\n",
      "Until the butterfly.\n",
      "\n",
      "It wasn't just any butterfly. This one was a Monarch, its wings the color of a sunset, fluttering erratically just beyond the open window. Clementine, stirred by an unfamiliar urge that had nothing to do with tuna, felt a tug. A tug towards… adventure?\n",
      "\n",
      "Ignoring her better judgement, she sprang onto the windowsill, testing its stability with a tentative paw. Below, the familiar brick patio dissolved into a riot of green. Hesitantly, she leaped.\n",
      "\n",
      "The world exploded with new sensations. The rough bark of the oak tree scraping her claws, the earthy smell of damp soil, the dizzying height of the fence. Her comfortable routine had vanished, replaced by a wild, unpredictable tapestry of sights, sounds, and smells.\n",
      "\n",
      "The butterfly, her silent guide, danced just ahead, leading her past the grumpy Mr. Henderson’s rose bushes (she avoided those), through a tangled patch of wildflowers buzzing with bees (she didn't avoid the bees, just swatted at them playfully), and finally, to a place she'd never seen before.\n",
      "\n",
      "It was a small, hidden garden tucked behind the old bakery. Sunlight dripped through the leaves, illuminating a miniature waterfall cascading into a shimmering pond. Dragonflies buzzed, frogs croaked, and the air hummed with a symphony of nature.\n",
      "\n",
      "Clementine, mesmerized, forgot about the butterfly. She lapped water from the pond, its taste sweeter than any water from her ceramic bowl. She stalked a particularly plump frog, relishing the thrill of the hunt, even though she had no intention of eating it.\n",
      "\n",
      "As the sun began to dip, painting the sky in hues of orange and pink, a wave of homesickness washed over her. The adventure was exciting, but her floral armchair beckoned.\n",
      "\n",
      "Following the scent of familiar chimneysmoke, Clementine retraced her steps. The grumpy Mr. Henderson glared, but she simply blinked at him with innocent, wide eyes.\n",
      "\n",
      "Back on her windowsill, she hesitated. For a moment, the comfort of her predictable life seemed stifling. But the sunbeam was particularly inviting.\n",
      "\n",
      "She jumped back inside, rubbing against her human’s legs with extra vigor. Dinner was demanded, dust bunnies were chased, and finally, curled up in her floral armchair, Clementine purred.\n",
      "\n",
      "She was home.\n",
      "\n",
      "But something had changed. The world outside her window no longer seemed so far away. She had tasted adventure, and the memory, like the scent of wildflowers, lingered in her whiskers. Tomorrow, perhaps, she would visit the garden again. After breakfast, of course. A cat, after all, still needed her routines. Even one with a secret, wild garden and the scent of adventure on her fur.\n",
      "\n"
     ]
    }
   ],
   "source": [
    "model_config = types.GenerateContentConfig(\n",
    "    # These are the default values for gemini-2.0-flash.\n",
    "    temperature=1.0,\n",
    "    top_p=0.95,\n",
    ")\n",
    "\n",
    "story_prompt = \"You are a creative writer. Write a short story about a cat who goes on an adventure.\"\n",
    "response = client.models.generate_content(\n",
    "    model='gemini-2.0-flash',\n",
    "    config=model_config,\n",
    "    contents=story_prompt)\n",
    "\n",
    "print(response.text)"
   ]
  },
  {
   "cell_type": "markdown",
   "id": "6dbad379",
   "metadata": {
    "id": "rMrYs1koY6DX",
    "papermill": {
     "duration": 0.014566,
     "end_time": "2025-04-16T21:32:13.603987",
     "exception": false,
     "start_time": "2025-04-16T21:32:13.589421",
     "status": "completed"
    },
    "tags": []
   },
   "source": [
    "## Prompting\n",
    "\n",
    "This section contains some prompts from the chapter for you to try out directly in the API. Try changing the text here to see how each prompt performs with different instructions, more examples, or any other changes you can think of."
   ]
  },
  {
   "cell_type": "markdown",
   "id": "fc3c30be",
   "metadata": {
    "id": "hhj_tQidZJP7",
    "papermill": {
     "duration": 0.014629,
     "end_time": "2025-04-16T21:32:13.633407",
     "exception": false,
     "start_time": "2025-04-16T21:32:13.618778",
     "status": "completed"
    },
    "tags": []
   },
   "source": [
    "### Zero-shot\n",
    "\n",
    "Zero-shot prompts are prompts that describe the request for the model directly.\n",
    "\n",
    "<table align=left>\n",
    "  <td>\n",
    "    <a target=\"_blank\" href=\"https://aistudio.google.com/prompts/1gzKKgDHwkAvexG5Up0LMtl1-6jKMKe4g\"><img src=\"https://ai.google.dev/site-assets/images/marketing/home/icon-ais.png\" style=\"height: 24px\" height=24/> Open in AI Studio</a>\n",
    "  </td>\n",
    "</table>"
   ]
  },
  {
   "cell_type": "code",
   "execution_count": 21,
   "id": "9d8cb868",
   "metadata": {
    "execution": {
     "iopub.execute_input": "2025-04-16T21:32:13.664325Z",
     "iopub.status.busy": "2025-04-16T21:32:13.663906Z",
     "iopub.status.idle": "2025-04-16T21:32:13.991061Z",
     "shell.execute_reply": "2025-04-16T21:32:13.989874Z"
    },
    "id": "1_t-cwnDZzbH",
    "papermill": {
     "duration": 0.345287,
     "end_time": "2025-04-16T21:32:13.993377",
     "exception": false,
     "start_time": "2025-04-16T21:32:13.648090",
     "status": "completed"
    },
    "tags": []
   },
   "outputs": [
    {
     "name": "stdout",
     "output_type": "stream",
     "text": [
      "POSITIVE\n",
      "\n"
     ]
    }
   ],
   "source": [
    "model_config = types.GenerateContentConfig(\n",
    "    temperature=0.1,\n",
    "    top_p=1,\n",
    "    max_output_tokens=5,\n",
    ")\n",
    "\n",
    "zero_shot_prompt = \"\"\"Classify movie reviews as POSITIVE, NEUTRAL or NEGATIVE.\n",
    "Review: \"Her\" is a disturbing study revealing the direction\n",
    "humanity is headed if AI is allowed to keep evolving,\n",
    "unchecked. I wish there were more movies like this masterpiece.\n",
    "Sentiment: \"\"\"\n",
    "\n",
    "response = client.models.generate_content(\n",
    "    model='gemini-2.0-flash',\n",
    "    config=model_config,\n",
    "    contents=zero_shot_prompt)\n",
    "\n",
    "print(response.text)"
   ]
  },
  {
   "cell_type": "markdown",
   "id": "b59b2204",
   "metadata": {
    "id": "3b5568bdeb11",
    "papermill": {
     "duration": 0.014588,
     "end_time": "2025-04-16T21:32:14.024289",
     "exception": false,
     "start_time": "2025-04-16T21:32:14.009701",
     "status": "completed"
    },
    "tags": []
   },
   "source": [
    "#### Enum mode\n",
    "\n",
    "The models are trained to generate text, and while the Gemini 2.0 models are great at following instructions, other models can sometimes produce more text than you may wish for. In the preceding example, the model will output the label, but sometimes it can include a preceding \"Sentiment\" label, and without an output token limit, it may also add explanatory text afterwards. See [this prompt in AI Studio](https://aistudio.google.com/prompts/1gzKKgDHwkAvexG5Up0LMtl1-6jKMKe4g) for an example.\n",
    "\n",
    "The Gemini API has an [Enum mode](https://github.com/google-gemini/cookbook/blob/main/quickstarts/Enum.ipynb) feature that allows you to constrain the output to a fixed set of values."
   ]
  },
  {
   "cell_type": "code",
   "execution_count": 22,
   "id": "f7c05552",
   "metadata": {
    "execution": {
     "iopub.execute_input": "2025-04-16T21:32:14.056246Z",
     "iopub.status.busy": "2025-04-16T21:32:14.055409Z",
     "iopub.status.idle": "2025-04-16T21:32:14.576472Z",
     "shell.execute_reply": "2025-04-16T21:32:14.575400Z"
    },
    "id": "ad118a56c598",
    "papermill": {
     "duration": 0.539206,
     "end_time": "2025-04-16T21:32:14.578603",
     "exception": false,
     "start_time": "2025-04-16T21:32:14.039397",
     "status": "completed"
    },
    "tags": []
   },
   "outputs": [
    {
     "name": "stdout",
     "output_type": "stream",
     "text": [
      "positive\n"
     ]
    }
   ],
   "source": [
    "import enum\n",
    "\n",
    "class Sentiment(enum.Enum):\n",
    "    POSITIVE = \"positive\"\n",
    "    NEUTRAL = \"neutral\"\n",
    "    NEGATIVE = \"negative\"\n",
    "\n",
    "\n",
    "response = client.models.generate_content(\n",
    "    model='gemini-2.0-flash',\n",
    "    config=types.GenerateContentConfig(\n",
    "        response_mime_type=\"text/x.enum\",\n",
    "        response_schema=Sentiment\n",
    "    ),\n",
    "    contents=zero_shot_prompt)\n",
    "\n",
    "print(response.text)"
   ]
  },
  {
   "cell_type": "markdown",
   "id": "60b70c90",
   "metadata": {
    "papermill": {
     "duration": 0.015251,
     "end_time": "2025-04-16T21:32:14.610473",
     "exception": false,
     "start_time": "2025-04-16T21:32:14.595222",
     "status": "completed"
    },
    "tags": []
   },
   "source": [
    "When using constrained output like an enum, the Python SDK will attempt to convert the model's text response into a Python object automatically. It's stored in the `response.parsed` field."
   ]
  },
  {
   "cell_type": "code",
   "execution_count": 23,
   "id": "f8a93663",
   "metadata": {
    "execution": {
     "iopub.execute_input": "2025-04-16T21:32:14.642254Z",
     "iopub.status.busy": "2025-04-16T21:32:14.641879Z",
     "iopub.status.idle": "2025-04-16T21:32:14.647393Z",
     "shell.execute_reply": "2025-04-16T21:32:14.646277Z"
    },
    "papermill": {
     "duration": 0.023957,
     "end_time": "2025-04-16T21:32:14.649468",
     "exception": false,
     "start_time": "2025-04-16T21:32:14.625511",
     "status": "completed"
    },
    "tags": []
   },
   "outputs": [
    {
     "name": "stdout",
     "output_type": "stream",
     "text": [
      "Sentiment.POSITIVE\n",
      "<enum 'Sentiment'>\n"
     ]
    }
   ],
   "source": [
    "enum_response = response.parsed\n",
    "print(enum_response)\n",
    "print(type(enum_response))"
   ]
  },
  {
   "cell_type": "markdown",
   "id": "5451ec07",
   "metadata": {
    "id": "0udiSwNbv45W",
    "papermill": {
     "duration": 0.015799,
     "end_time": "2025-04-16T21:32:14.680430",
     "exception": false,
     "start_time": "2025-04-16T21:32:14.664631",
     "status": "completed"
    },
    "tags": []
   },
   "source": [
    "### One-shot and few-shot\n",
    "\n",
    "Providing an example of the expected response is known as a \"one-shot\" prompt. When you provide multiple examples, it is a \"few-shot\" prompt.\n",
    "\n",
    "<table align=left>\n",
    "  <td>\n",
    "    <a target=\"_blank\" href=\"https://aistudio.google.com/prompts/1jjWkjUSoMXmLvMJ7IzADr_GxHPJVV2bg\"><img src=\"https://ai.google.dev/site-assets/images/marketing/home/icon-ais.png\" style=\"height: 24px\" height=24/> Open in AI Studio</a>\n",
    "  </td>\n",
    "</table>\n"
   ]
  },
  {
   "cell_type": "code",
   "execution_count": 24,
   "id": "907f494a",
   "metadata": {
    "execution": {
     "iopub.execute_input": "2025-04-16T21:32:14.713575Z",
     "iopub.status.busy": "2025-04-16T21:32:14.712732Z",
     "iopub.status.idle": "2025-04-16T21:32:15.277218Z",
     "shell.execute_reply": "2025-04-16T21:32:15.276024Z"
    },
    "id": "hd4mVUukwOKZ",
    "papermill": {
     "duration": 0.58355,
     "end_time": "2025-04-16T21:32:15.279800",
     "exception": false,
     "start_time": "2025-04-16T21:32:14.696250",
     "status": "completed"
    },
    "tags": []
   },
   "outputs": [
    {
     "name": "stdout",
     "output_type": "stream",
     "text": [
      "```json\n",
      "{\n",
      "\"size\": \"large\",\n",
      "\"type\": \"normal\",\n",
      "\"ingredients\": [\"cheese\", \"pineapple\"]\n",
      "}\n",
      "```\n",
      "\n"
     ]
    }
   ],
   "source": [
    "few_shot_prompt = \"\"\"Parse a customer's pizza order into valid JSON:\n",
    "\n",
    "EXAMPLE:\n",
    "I want a small pizza with cheese, tomato sauce, and pepperoni.\n",
    "JSON Response:\n",
    "```\n",
    "{\n",
    "\"size\": \"small\",\n",
    "\"type\": \"normal\",\n",
    "\"ingredients\": [\"cheese\", \"tomato sauce\", \"pepperoni\"]\n",
    "}\n",
    "```\n",
    "\n",
    "EXAMPLE:\n",
    "Can I get a large pizza with tomato sauce, basil and mozzarella\n",
    "JSON Response:\n",
    "```\n",
    "{\n",
    "\"size\": \"large\",\n",
    "\"type\": \"normal\",\n",
    "\"ingredients\": [\"tomato sauce\", \"basil\", \"mozzarella\"]\n",
    "}\n",
    "```\n",
    "\n",
    "ORDER:\n",
    "\"\"\"\n",
    "\n",
    "customer_order = \"Give me a large with cheese & pineapple\"\n",
    "\n",
    "response = client.models.generate_content(\n",
    "    model='gemini-2.0-flash',\n",
    "    config=types.GenerateContentConfig(\n",
    "        temperature=0.1,\n",
    "        top_p=1,\n",
    "        max_output_tokens=250,\n",
    "    ),\n",
    "    contents=[few_shot_prompt, customer_order])\n",
    "\n",
    "print(response.text)"
   ]
  },
  {
   "cell_type": "markdown",
   "id": "46519c58",
   "metadata": {
    "id": "021293096f08",
    "papermill": {
     "duration": 0.014914,
     "end_time": "2025-04-16T21:32:15.311093",
     "exception": false,
     "start_time": "2025-04-16T21:32:15.296179",
     "status": "completed"
    },
    "tags": []
   },
   "source": [
    "#### JSON mode\n",
    "\n",
    "To provide control over the schema, and to ensure that you only receive JSON (with no other text or markdown), you can use the Gemini API's [JSON mode](https://github.com/google-gemini/cookbook/blob/main/quickstarts/JSON_mode.ipynb). This forces the model to constrain decoding, such that token selection is guided by the supplied schema."
   ]
  },
  {
   "cell_type": "code",
   "execution_count": 25,
   "id": "5552ea02",
   "metadata": {
    "execution": {
     "iopub.execute_input": "2025-04-16T21:32:15.344226Z",
     "iopub.status.busy": "2025-04-16T21:32:15.343831Z",
     "iopub.status.idle": "2025-04-16T21:32:15.886543Z",
     "shell.execute_reply": "2025-04-16T21:32:15.885507Z"
    },
    "id": "50fbf0260912",
    "papermill": {
     "duration": 0.561776,
     "end_time": "2025-04-16T21:32:15.888862",
     "exception": false,
     "start_time": "2025-04-16T21:32:15.327086",
     "status": "completed"
    },
    "tags": []
   },
   "outputs": [
    {
     "name": "stdout",
     "output_type": "stream",
     "text": [
      "{\n",
      "  \"size\": \"large\",\n",
      "  \"ingredients\": [\"apple\", \"chocolate\"],\n",
      "  \"type\": \"dessert\"\n",
      "}\n"
     ]
    }
   ],
   "source": [
    "import typing_extensions as typing\n",
    "\n",
    "class PizzaOrder(typing.TypedDict):\n",
    "    size: str\n",
    "    ingredients: list[str]\n",
    "    type: str\n",
    "\n",
    "\n",
    "response = client.models.generate_content(\n",
    "    model='gemini-2.0-flash',\n",
    "    config=types.GenerateContentConfig(\n",
    "        temperature=0.1,\n",
    "        response_mime_type=\"application/json\",\n",
    "        response_schema=PizzaOrder,\n",
    "    ),\n",
    "    contents=\"Can I have a large dessert pizza with apple and chocolate\")\n",
    "\n",
    "print(response.text)"
   ]
  },
  {
   "cell_type": "markdown",
   "id": "08cfbffb",
   "metadata": {
    "id": "4a93e338e57c",
    "papermill": {
     "duration": 0.014828,
     "end_time": "2025-04-16T21:32:15.919133",
     "exception": false,
     "start_time": "2025-04-16T21:32:15.904305",
     "status": "completed"
    },
    "tags": []
   },
   "source": [
    "### Chain of Thought (CoT)\n",
    "\n",
    "Direct prompting on LLMs can return answers quickly and (in terms of output token usage) efficiently, but they can be prone to hallucination. The answer may \"look\" correct (in terms of language and syntax) but is incorrect in terms of factuality and reasoning.\n",
    "\n",
    "Chain-of-Thought prompting is a technique where you instruct the model to output intermediate reasoning steps, and it typically gets better results, especially when combined with few-shot examples. It is worth noting that this technique doesn't completely eliminate hallucinations, and that it tends to cost more to run, due to the increased token count.\n",
    "\n",
    "Models like the Gemini family are trained to be \"chatty\" or \"thoughtful\" and will provide reasoning steps without prompting, so for this simple example you can ask the model to be more direct in the prompt to force a non-reasoning response. Try re-running this step if the model gets lucky and gets the answer correct on the first try."
   ]
  },
  {
   "cell_type": "code",
   "execution_count": 26,
   "id": "531114fb",
   "metadata": {
    "execution": {
     "iopub.execute_input": "2025-04-16T21:32:15.951105Z",
     "iopub.status.busy": "2025-04-16T21:32:15.950717Z",
     "iopub.status.idle": "2025-04-16T21:32:33.349891Z",
     "shell.execute_reply": "2025-04-16T21:32:33.348700Z"
    },
    "id": "5715555db1c1",
    "papermill": {
     "duration": 17.417995,
     "end_time": "2025-04-16T21:32:33.352313",
     "exception": false,
     "start_time": "2025-04-16T21:32:15.934318",
     "status": "completed"
    },
    "tags": []
   },
   "outputs": [
    {
     "name": "stdout",
     "output_type": "stream",
     "text": [
      "48\n",
      "\n"
     ]
    }
   ],
   "source": [
    "prompt = \"\"\"When I was 4 years old, my partner was 3 times my age. Now, I\n",
    "am 20 years old. How old is my partner? Return the answer directly.\"\"\"\n",
    "\n",
    "response = client.models.generate_content(\n",
    "    model='gemini-2.0-flash',\n",
    "    contents=prompt)\n",
    "\n",
    "print(response.text)"
   ]
  },
  {
   "cell_type": "markdown",
   "id": "1d303df9",
   "metadata": {
    "id": "e12b19677bfd",
    "papermill": {
     "duration": 0.015262,
     "end_time": "2025-04-16T21:32:33.383561",
     "exception": false,
     "start_time": "2025-04-16T21:32:33.368299",
     "status": "completed"
    },
    "tags": []
   },
   "source": [
    "Now try the same approach, but indicate to the model that it should \"think step by step\"."
   ]
  },
  {
   "cell_type": "code",
   "execution_count": 27,
   "id": "fcc90527",
   "metadata": {
    "execution": {
     "iopub.execute_input": "2025-04-16T21:32:33.417061Z",
     "iopub.status.busy": "2025-04-16T21:32:33.416057Z",
     "iopub.status.idle": "2025-04-16T21:32:34.411929Z",
     "shell.execute_reply": "2025-04-16T21:32:34.410851Z"
    },
    "id": "ffd7536a481f",
    "papermill": {
     "duration": 1.015001,
     "end_time": "2025-04-16T21:32:34.414618",
     "exception": false,
     "start_time": "2025-04-16T21:32:33.399617",
     "status": "completed"
    },
    "tags": []
   },
   "outputs": [
    {
     "data": {
      "text/markdown": [
       "Here's how to solve the problem:\n",
       "\n",
       "1.  **Calculate the partner's age when you were 4:** Since your partner was 3 times your age when you were 4, they were 3 * 4 = 12 years old.\n",
       "2.  **Calculate the age difference:** The age difference between you and your partner is 12 - 4 = 8 years.\n",
       "3.  **Calculate the partner's current age:** Since you are now 20 and your partner is 8 years older, they are currently 20 + 8 = 28 years old.\n",
       "\n",
       "**Answer:** Your partner is currently 28 years old.\n"
      ],
      "text/plain": [
       "<IPython.core.display.Markdown object>"
      ]
     },
     "execution_count": 27,
     "metadata": {},
     "output_type": "execute_result"
    }
   ],
   "source": [
    "prompt = \"\"\"When I was 4 years old, my partner was 3 times my age. Now,\n",
    "I am 20 years old. How old is my partner? Let's think step by step.\"\"\"\n",
    "\n",
    "response = client.models.generate_content(\n",
    "    model='gemini-2.0-flash',\n",
    "    contents=prompt)\n",
    "\n",
    "Markdown(response.text)"
   ]
  },
  {
   "cell_type": "markdown",
   "id": "002a38d0",
   "metadata": {
    "id": "oiLgBQJj0V53",
    "papermill": {
     "duration": 0.016519,
     "end_time": "2025-04-16T21:32:34.447638",
     "exception": false,
     "start_time": "2025-04-16T21:32:34.431119",
     "status": "completed"
    },
    "tags": []
   },
   "source": [
    "### ReAct: Reason and act\n",
    "\n",
    "In this example you will run a ReAct prompt directly in the Gemini API and perform the searching steps yourself. As this prompt follows a well-defined structure, there are frameworks available that wrap the prompt into easier-to-use APIs that make tool calls automatically, such as the LangChain example from the \"Prompting\" whitepaper.\n",
    "\n",
    "To try this out with the Wikipedia search engine, check out the [Searching Wikipedia with ReAct](https://github.com/google-gemini/cookbook/blob/main/examples/Search_Wikipedia_using_ReAct.ipynb) cookbook example.\n",
    "\n",
    "\n",
    "> Note: The prompt and in-context examples used here are from [https://github.com/ysymyth/ReAct](https://github.com/ysymyth/ReAct) which is published under an [MIT license](https://opensource.org/licenses/MIT), Copyright (c) 2023 Shunyu Yao.\n",
    "\n",
    "<table align=left>\n",
    "  <td>\n",
    "    <a target=\"_blank\" href=\"https://aistudio.google.com/prompts/18oo63Lwosd-bQ6Ay51uGogB3Wk3H8XMO\"><img src=\"https://ai.google.dev/site-assets/images/marketing/home/icon-ais.png\" style=\"height: 24px\" height=24/> Open in AI Studio</a>\n",
    "  </td>\n",
    "</table>\n"
   ]
  },
  {
   "cell_type": "code",
   "execution_count": 28,
   "id": "5a999fd8",
   "metadata": {
    "execution": {
     "iopub.execute_input": "2025-04-16T21:32:34.484076Z",
     "iopub.status.busy": "2025-04-16T21:32:34.483731Z",
     "iopub.status.idle": "2025-04-16T21:32:34.490637Z",
     "shell.execute_reply": "2025-04-16T21:32:34.489653Z"
    },
    "id": "cBgyNJ5z0VSs",
    "papermill": {
     "duration": 0.027257,
     "end_time": "2025-04-16T21:32:34.492854",
     "exception": false,
     "start_time": "2025-04-16T21:32:34.465597",
     "status": "completed"
    },
    "tags": []
   },
   "outputs": [],
   "source": [
    "model_instructions = \"\"\"\n",
    "Solve a question answering task with interleaving Thought, Action, Observation steps. Thought can reason about the current situation,\n",
    "Observation is understanding relevant information from an Action's output and Action can be one of three types:\n",
    " (1) <search>entity</search>, which searches the exact entity on Wikipedia and returns the first paragraph if it exists. If not, it\n",
    "     will return some similar entities to search and you can try to search the information from those topics.\n",
    " (2) <lookup>keyword</lookup>, which returns the next sentence containing keyword in the current context. This only does exact matches,\n",
    "     so keep your searches short.\n",
    " (3) <finish>answer</finish>, which returns the answer and finishes the task.\n",
    "\"\"\"\n",
    "\n",
    "example1 = \"\"\"Question\n",
    "Musician and satirist Allie Goertz wrote a song about the \"The Simpsons\" character Milhouse, who Matt Groening named after who?\n",
    "\n",
    "Thought 1\n",
    "The question simplifies to \"The Simpsons\" character Milhouse is named after who. I only need to search Milhouse and find who it is named after.\n",
    "\n",
    "Action 1\n",
    "<search>Milhouse</search>\n",
    "\n",
    "Observation 1\n",
    "Milhouse Mussolini Van Houten is a recurring character in the Fox animated television series The Simpsons voiced by Pamela Hayden and created by Matt Groening.\n",
    "\n",
    "Thought 2\n",
    "The paragraph does not tell who Milhouse is named after, maybe I can look up \"named after\".\n",
    "\n",
    "Action 2\n",
    "<lookup>named after</lookup>\n",
    "\n",
    "Observation 2\n",
    "Milhouse was named after U.S. president Richard Nixon, whose middle name was Milhous.\n",
    "\n",
    "Thought 3\n",
    "Milhouse was named after U.S. president Richard Nixon, so the answer is Richard Nixon.\n",
    "\n",
    "Action 3\n",
    "<finish>Richard Nixon</finish>\n",
    "\"\"\"\n",
    "\n",
    "example2 = \"\"\"Question\n",
    "What is the elevation range for the area that the eastern sector of the Colorado orogeny extends into?\n",
    "\n",
    "Thought 1\n",
    "I need to search Colorado orogeny, find the area that the eastern sector of the Colorado orogeny extends into, then find the elevation range of the area.\n",
    "\n",
    "Action 1\n",
    "<search>Colorado orogeny</search>\n",
    "\n",
    "Observation 1\n",
    "The Colorado orogeny was an episode of mountain building (an orogeny) in Colorado and surrounding areas.\n",
    "\n",
    "Thought 2\n",
    "It does not mention the eastern sector. So I need to look up eastern sector.\n",
    "\n",
    "Action 2\n",
    "<lookup>eastern sector</lookup>\n",
    "\n",
    "Observation 2\n",
    "The eastern sector extends into the High Plains and is called the Central Plains orogeny.\n",
    "\n",
    "Thought 3\n",
    "The eastern sector of Colorado orogeny extends into the High Plains. So I need to search High Plains and find its elevation range.\n",
    "\n",
    "Action 3\n",
    "<search>High Plains</search>\n",
    "\n",
    "Observation 3\n",
    "High Plains refers to one of two distinct land regions\n",
    "\n",
    "Thought 4\n",
    "I need to instead search High Plains (United States).\n",
    "\n",
    "Action 4\n",
    "<search>High Plains (United States)</search>\n",
    "\n",
    "Observation 4\n",
    "The High Plains are a subregion of the Great Plains. From east to west, the High Plains rise in elevation from around 1,800 to 7,000 ft (550 to 2,130m).\n",
    "\n",
    "Thought 5\n",
    "High Plains rise in elevation from around 1,800 to 7,000 ft, so the answer is 1,800 to 7,000 ft.\n",
    "\n",
    "Action 5\n",
    "<finish>1,800 to 7,000 ft</finish>\n",
    "\"\"\"\n",
    "\n",
    "# Come up with more examples yourself, or take a look through https://github.com/ysymyth/ReAct/"
   ]
  },
  {
   "cell_type": "markdown",
   "id": "ae7a8178",
   "metadata": {
    "id": "C3wbfstjTgey",
    "papermill": {
     "duration": 0.015209,
     "end_time": "2025-04-16T21:32:34.523579",
     "exception": false,
     "start_time": "2025-04-16T21:32:34.508370",
     "status": "completed"
    },
    "tags": []
   },
   "source": [
    "To capture a single step at a time, while ignoring any hallucinated Observation steps, you will use `stop_sequences` to end the generation process. The steps are `Thought`, `Action`, `Observation`, in that order."
   ]
  },
  {
   "cell_type": "code",
   "execution_count": 29,
   "id": "a2ac6fd6",
   "metadata": {
    "execution": {
     "iopub.execute_input": "2025-04-16T21:32:34.556830Z",
     "iopub.status.busy": "2025-04-16T21:32:34.556007Z",
     "iopub.status.idle": "2025-04-16T21:32:35.131541Z",
     "shell.execute_reply": "2025-04-16T21:32:35.130429Z"
    },
    "id": "8mxrXRkRTdXm",
    "papermill": {
     "duration": 0.594625,
     "end_time": "2025-04-16T21:32:35.134002",
     "exception": false,
     "start_time": "2025-04-16T21:32:34.539377",
     "status": "completed"
    },
    "tags": []
   },
   "outputs": [
    {
     "name": "stdout",
     "output_type": "stream",
     "text": [
      "Thought 1\n",
      "I need to search for the \"transformers NLP paper\" to find the authors and their ages, then identify the youngest author.\n",
      "\n",
      "Action 1\n",
      "<search>transformers NLP paper</search>\n",
      "\n"
     ]
    }
   ],
   "source": [
    "question = \"\"\"Question\n",
    "Who was the youngest author listed on the transformers NLP paper?\n",
    "\"\"\"\n",
    "\n",
    "# You will perform the Action; so generate up to, but not including, the Observation.\n",
    "react_config = types.GenerateContentConfig(\n",
    "    stop_sequences=[\"\\nObservation\"],\n",
    "    system_instruction=model_instructions + example1 + example2,\n",
    ")\n",
    "\n",
    "# Create a chat that has the model instructions and examples pre-seeded.\n",
    "react_chat = client.chats.create(\n",
    "    model='gemini-2.0-flash',\n",
    "    config=react_config,\n",
    ")\n",
    "\n",
    "resp = react_chat.send_message(question)\n",
    "print(resp.text)"
   ]
  },
  {
   "cell_type": "markdown",
   "id": "96e389a8",
   "metadata": {
    "id": "aW2PIdLbVv3l",
    "papermill": {
     "duration": 0.015648,
     "end_time": "2025-04-16T21:32:35.165643",
     "exception": false,
     "start_time": "2025-04-16T21:32:35.149995",
     "status": "completed"
    },
    "tags": []
   },
   "source": [
    "Now you can perform this research yourself and supply it back to the model."
   ]
  },
  {
   "cell_type": "code",
   "execution_count": 30,
   "id": "c3a21336",
   "metadata": {
    "execution": {
     "iopub.execute_input": "2025-04-16T21:32:35.199074Z",
     "iopub.status.busy": "2025-04-16T21:32:35.198709Z",
     "iopub.status.idle": "2025-04-16T21:32:36.146303Z",
     "shell.execute_reply": "2025-04-16T21:32:36.144906Z"
    },
    "id": "mLMc0DZaV9g2",
    "papermill": {
     "duration": 0.967442,
     "end_time": "2025-04-16T21:32:36.148701",
     "exception": false,
     "start_time": "2025-04-16T21:32:35.181259",
     "status": "completed"
    },
    "tags": []
   },
   "outputs": [
    {
     "name": "stdout",
     "output_type": "stream",
     "text": [
      "Thought 2\n",
      "The search results give the authors of the \"Attention Is All You Need\" paper, which is the Transformer paper. I need to find the youngest author from the list: Ashish Vaswani, Noam Shazeer, Niki Parmar, Jakob Uszkoreit, Llion Jones, Aidan N. Gomez, Lukasz Kaiser, Illia Polosukhin. I don't have any age information, so I need to search for each author's age. I will start with Ashish Vaswani.\n",
      "\n",
      "Action 2\n",
      "<search>Ashish Vaswani age</search>\n",
      "\n"
     ]
    }
   ],
   "source": [
    "observation = \"\"\"Observation 1\n",
    "[1706.03762] Attention Is All You Need\n",
    "Ashish Vaswani, Noam Shazeer, Niki Parmar, Jakob Uszkoreit, Llion Jones, Aidan N. Gomez, Lukasz Kaiser, Illia Polosukhin\n",
    "We propose a new simple network architecture, the Transformer, based solely on attention mechanisms, dispensing with recurrence and convolutions entirely.\n",
    "\"\"\"\n",
    "resp = react_chat.send_message(observation)\n",
    "print(resp.text)"
   ]
  },
  {
   "cell_type": "markdown",
   "id": "8e30f0c9",
   "metadata": {
    "id": "bo0tzf4nX6dA",
    "papermill": {
     "duration": 0.015168,
     "end_time": "2025-04-16T21:32:36.179644",
     "exception": false,
     "start_time": "2025-04-16T21:32:36.164476",
     "status": "completed"
    },
    "tags": []
   },
   "source": [
    "This process repeats until the `<finish>` action is reached. You can continue running this yourself if you like, or try the [Wikipedia example](https://github.com/google-gemini/cookbook/blob/main/examples/Search_Wikipedia_using_ReAct.ipynb) to see a fully automated ReAct system at work."
   ]
  },
  {
   "cell_type": "markdown",
   "id": "3f6b68b6",
   "metadata": {
    "papermill": {
     "duration": 0.01516,
     "end_time": "2025-04-16T21:32:36.210307",
     "exception": false,
     "start_time": "2025-04-16T21:32:36.195147",
     "status": "completed"
    },
    "tags": []
   },
   "source": [
    "## Thinking mode\n",
    "\n",
    "The experiemental Gemini Flash 2.0 \"Thinking\" model has been trained to generate the \"thinking process\" the model goes through as part of its response. As a result, the Flash Thinking model is capable of stronger reasoning capabilities in its responses.\n",
    "\n",
    "Using a \"thinking mode\" model can provide you with high-quality responses without needing specialised prompting like the previous approaches. One reason this technique is effective is that you induce the model to generate relevant information (\"brainstorming\", or \"thoughts\") that is then used as part of the context in which the final response is generated.\n",
    "\n",
    "Note that when you use the API, you get the final response from the model, but the thoughts are not captured. To see the intermediate thoughts, try out [the thinking mode model in AI Studio](https://aistudio.google.com/prompts/new_chat?model=gemini-2.0-flash-thinking-exp-01-21).\n",
    "\n",
    "<table align=left>\n",
    "  <td>\n",
    "    <a target=\"_blank\" href=\"https://aistudio.google.com/prompts/1Z991SV7lZZZqioOiqIUPv9a9ix-ws4zk\"><img src=\"https://ai.google.dev/site-assets/images/marketing/home/icon-ais.png\" style=\"height: 24px\" height=24/> Open in AI Studio</a>\n",
    "  </td>\n",
    "</table>"
   ]
  },
  {
   "cell_type": "code",
   "execution_count": 31,
   "id": "681a9662",
   "metadata": {
    "execution": {
     "iopub.execute_input": "2025-04-16T21:32:36.242981Z",
     "iopub.status.busy": "2025-04-16T21:32:36.242632Z",
     "iopub.status.idle": "2025-04-16T21:32:42.693783Z",
     "shell.execute_reply": "2025-04-16T21:32:42.692515Z"
    },
    "papermill": {
     "duration": 6.470379,
     "end_time": "2025-04-16T21:32:42.696091",
     "exception": false,
     "start_time": "2025-04-16T21:32:36.225712",
     "status": "completed"
    },
    "tags": []
   },
   "outputs": [
    {
     "data": {
      "text/markdown": [
       "The youngest author listed on the \"Attention is All You Need\" paper (the seminal Transformers NLP paper) is likely **Aidan N. Gomez**.\n",
       "\n",
       "Here's why:\n",
       "\n",
       "* **Aidan N. Gomez** was a PhD student at the University of Oxford during the time the paper was written and published (2017). PhD students are generally younger than established researchers at companies like Google Brain (where most other authors were from).\n",
       "\n",
       "While it's difficult to definitively say *exactly* who was the youngest without knowing the birthdates of all authors, being a PhD student at the time strongly suggests Aidan N. Gomez was the youngest member of the author list.\n",
       "\n",
       "The authors of the \"Attention is All You Need\" paper are:\n",
       "\n",
       "* Ashish Vaswani\n",
       "* Noam Shazeer\n",
       "* Niki Parmar\n",
       "* Jakob Uszkoreit\n",
       "* Llion Jones\n",
       "* **Aidan N. Gomez**\n",
       "* Łukasz Kaiser\n",
       "* Illia Polosukhin"
      ],
      "text/plain": [
       "<IPython.core.display.Markdown object>"
      ]
     },
     "execution_count": 31,
     "metadata": {},
     "output_type": "execute_result"
    }
   ],
   "source": [
    "import io\n",
    "from IPython.display import Markdown, clear_output\n",
    "\n",
    "\n",
    "response = client.models.generate_content_stream(\n",
    "    model='gemini-2.0-flash-thinking-exp',\n",
    "    contents='Who was the youngest author listed on the transformers NLP paper?',\n",
    ")\n",
    "\n",
    "buf = io.StringIO()\n",
    "for chunk in response:\n",
    "    buf.write(chunk.text)\n",
    "    # Display the response as it is streamed\n",
    "    print(chunk.text, end='')\n",
    "\n",
    "# And then render the finished response as formatted markdown.\n",
    "clear_output()\n",
    "Markdown(buf.getvalue())"
   ]
  },
  {
   "cell_type": "markdown",
   "id": "d570953b",
   "metadata": {
    "id": "jPiZ_eIIaVPt",
    "papermill": {
     "duration": 0.015359,
     "end_time": "2025-04-16T21:32:42.727404",
     "exception": false,
     "start_time": "2025-04-16T21:32:42.712045",
     "status": "completed"
    },
    "tags": []
   },
   "source": [
    "## Code prompting"
   ]
  },
  {
   "cell_type": "markdown",
   "id": "869ae80c",
   "metadata": {
    "id": "ZinKamwXeR6C",
    "papermill": {
     "duration": 0.016376,
     "end_time": "2025-04-16T21:32:42.759275",
     "exception": false,
     "start_time": "2025-04-16T21:32:42.742899",
     "status": "completed"
    },
    "tags": []
   },
   "source": [
    "### Generating code\n",
    "\n",
    "The Gemini family of models can be used to generate code, configuration and scripts. Generating code can be helpful when learning to code, learning a new language or for rapidly generating a first draft.\n",
    "\n",
    "It's important to be aware that since LLMs can make mistakes, and can repeat training data, it's essential to read and test your code first, and comply with any relevant licenses.\n",
    "\n",
    "<table align=left>\n",
    "  <td>\n",
    "    <a target=\"_blank\" href=\"https://aistudio.google.com/prompts/1YX71JGtzDjXQkgdes8bP6i3oH5lCRKxv\"><img src=\"https://ai.google.dev/site-assets/images/marketing/home/icon-ais.png\" style=\"height: 24px\" height=24/> Open in AI Studio</a>\n",
    "  </td>\n",
    "</table>"
   ]
  },
  {
   "cell_type": "code",
   "execution_count": 32,
   "id": "ef06e9d0",
   "metadata": {
    "execution": {
     "iopub.execute_input": "2025-04-16T21:32:42.793224Z",
     "iopub.status.busy": "2025-04-16T21:32:42.792842Z",
     "iopub.status.idle": "2025-04-16T21:32:43.318115Z",
     "shell.execute_reply": "2025-04-16T21:32:43.316989Z"
    },
    "id": "fOQP9pqmeUO1",
    "papermill": {
     "duration": 0.544884,
     "end_time": "2025-04-16T21:32:43.320396",
     "exception": false,
     "start_time": "2025-04-16T21:32:42.775512",
     "status": "completed"
    },
    "tags": []
   },
   "outputs": [
    {
     "data": {
      "text/markdown": [
       "```python\n",
       "def factorial(n):\n",
       "  \"\"\"\n",
       "  Calculate the factorial of a number.\n",
       "  \"\"\"\n",
       "  if n == 0:\n",
       "    return 1\n",
       "  else:\n",
       "    return n * factorial(n-1)\n",
       "```"
      ],
      "text/plain": [
       "<IPython.core.display.Markdown object>"
      ]
     },
     "execution_count": 32,
     "metadata": {},
     "output_type": "execute_result"
    }
   ],
   "source": [
    "# The Gemini models love to talk, so it helps to specify they stick to the code if that\n",
    "# is all that you want.\n",
    "code_prompt = \"\"\"\n",
    "Write a Python function to calculate the factorial of a number. No explanation, provide only the code.\n",
    "\"\"\"\n",
    "\n",
    "response = client.models.generate_content(\n",
    "    model='gemini-2.0-flash',\n",
    "    config=types.GenerateContentConfig(\n",
    "        temperature=1,\n",
    "        top_p=1,\n",
    "        max_output_tokens=1024,\n",
    "    ),\n",
    "    contents=code_prompt)\n",
    "\n",
    "Markdown(response.text)"
   ]
  },
  {
   "cell_type": "markdown",
   "id": "170a0332",
   "metadata": {
    "id": "wlBMWSFhgVRQ",
    "papermill": {
     "duration": 0.015442,
     "end_time": "2025-04-16T21:32:43.351701",
     "exception": false,
     "start_time": "2025-04-16T21:32:43.336259",
     "status": "completed"
    },
    "tags": []
   },
   "source": [
    "### Code execution\n",
    "\n",
    "The Gemini API can automatically run generated code too, and will return the output.\n",
    "\n",
    "<table align=left>\n",
    "  <td>\n",
    "    <a target=\"_blank\" href=\"https://aistudio.google.com/prompts/11veFr_VYEwBWcLkhNLr-maCG0G8sS_7Z\"><img src=\"https://ai.google.dev/site-assets/images/marketing/home/icon-ais.png\" style=\"height: 24px\" height=24/> Open in AI Studio</a>\n",
    "  </td>\n",
    "</table>"
   ]
  },
  {
   "cell_type": "code",
   "execution_count": 33,
   "id": "914c5f64",
   "metadata": {
    "execution": {
     "iopub.execute_input": "2025-04-16T21:32:43.384944Z",
     "iopub.status.busy": "2025-04-16T21:32:43.384571Z",
     "iopub.status.idle": "2025-04-16T21:32:51.961141Z",
     "shell.execute_reply": "2025-04-16T21:32:51.959817Z"
    },
    "id": "jT3OfWYfhjRL",
    "papermill": {
     "duration": 8.596465,
     "end_time": "2025-04-16T21:32:51.963821",
     "exception": false,
     "start_time": "2025-04-16T21:32:43.367356",
     "status": "completed"
    },
    "tags": []
   },
   "outputs": [
    {
     "name": "stdout",
     "output_type": "stream",
     "text": [
      "{'text': 'Okay, I understand. First, I will generate the first 14 odd prime '\n",
      "         'numbers. Remember that a prime number is a number greater than 1 '\n",
      "         'that has only two divisors: 1 and itself. Also, an odd number is any '\n",
      "         'integer that is not divisible by 2. The first few prime numbers are '\n",
      "         \"2, 3, 5, 7, 11, and so on. Since we need odd prime numbers, we'll \"\n",
      "         'exclude 2. After I have identified these numbers, I will calculate '\n",
      "         'their sum.\\n'\n",
      "         '\\n'}\n",
      "-----\n",
      "{'executable_code': {'code': 'primes = []\\n'\n",
      "                             'num = 3\\n'\n",
      "                             'while len(primes) < 14:\\n'\n",
      "                             '    is_prime = True\\n'\n",
      "                             '    for i in range(2, int(num**0.5) + 1):\\n'\n",
      "                             '        if num % i == 0:\\n'\n",
      "                             '            is_prime = False\\n'\n",
      "                             '            break\\n'\n",
      "                             '    if is_prime:\\n'\n",
      "                             '        primes.append(num)\\n'\n",
      "                             '    num += 2\\n'\n",
      "                             '\\n'\n",
      "                             \"print(f'{primes=}')\\n\"\n",
      "                             '\\n'\n",
      "                             'import sympy\\n'\n",
      "                             'sum_of_primes = sympy.summation(primes[i] for i '\n",
      "                             'in range(len(primes)))\\n'\n",
      "                             \"print(f'{sum_of_primes=}')\\n\",\n",
      "                     'language': 'PYTHON'}}\n",
      "-----\n",
      "{'code_execution_result': {'outcome': 'OUTCOME_OK',\n",
      "                           'output': 'primes=[3, 5, 7, 11, 13, 17, 19, 23, 29, '\n",
      "                                     '31, 37, 41, 43, 47]\\n'}}\n",
      "-----\n",
      "{'code_execution_result': {'outcome': 'OUTCOME_FAILED',\n",
      "                           'output': 'SympifyError: \"cannot sympify object of '\n",
      "                                     'type <class \\'generator\\'>\"\\n'\n",
      "                                     'Traceback (most recent call last):\\n'\n",
      "                                     '  File \"/usr/bin/entry/entry_point\", '\n",
      "                                     'line 117, in _run_python\\n'\n",
      "                                     '    exec(code, exec_scope)  # pylint: '\n",
      "                                     'disable=exec-used\\n'\n",
      "                                     '    ^^^^^^^^^^^^^^^^^^^^^^\\n'\n",
      "                                     '  File \"<string>\", line 16, in <module>\\n'\n",
      "                                     '  File '\n",
      "                                     '\"/usr/local/lib/python3.12/site-packages/sympy/concrete/summations.py\", '\n",
      "                                     'line 936, in summation\\n'\n",
      "                                     '    return Sum(f, *symbols, '\n",
      "                                     '**kwargs).doit(deep=False)\\n'\n",
      "                                     '           ^^^^^^^^^^^^^^^^^^^^^^^^^^\\n'\n",
      "                                     '  File '\n",
      "                                     '\"/usr/local/lib/python3.12/site-packages/sympy/concrete/summations.py\", '\n",
      "                                     'line 178, in __new__\\n'\n",
      "                                     '    obj = AddWithLimits.__new__(cls, '\n",
      "                                     'function, *symbols, **assumptions)\\n'\n",
      "                                     '          '\n",
      "                                     '^^^^^^^^^^^^^^^^^^^^^^^^^^^^^^^^^^^^^^^^^^^^^^^^^^^^^^^^^^^^^\\n'\n",
      "                                     '  File '\n",
      "                                     '\"/usr/local/lib/python3.12/site-packages/sympy/concrete/expr_with_limits.py\", '\n",
      "                                     'line 547, in __new__\\n'\n",
      "                                     '    pre = _common_new(cls, function, '\n",
      "                                     '*symbols,\\n'\n",
      "                                     '          '\n",
      "                                     '^^^^^^^^^^^^^^^^^^^^^^^^^^^^^^^^^^^^\\n'\n",
      "                                     '  File '\n",
      "                                     '\"/usr/local/lib/python3.12/site-packages/sympy/concrete/expr_with_limits.py\", '\n",
      "                                     'line 26, in _common_new\\n'\n",
      "                                     '    function = sympify(function)\\n'\n",
      "                                     '               ^^^^^^^^^^^^^^^^^\\n'\n",
      "                                     '  File '\n",
      "                                     '\"/usr/local/lib/python3.12/site-packages/sympy/core/sympify.py\", '\n",
      "                                     'line 465, in sympify\\n'\n",
      "                                     \"    raise SympifyError('cannot sympify \"\n",
      "                                     \"object of type %r' % type(a))\\n\"\n",
      "                                     'sympy.core.sympify.SympifyError: '\n",
      "                                     'SympifyError: \"cannot sympify object of '\n",
      "                                     'type <class \\'generator\\'>\"\\n'}}\n",
      "-----\n",
      "{'text': 'My attempt to calculate the sum using `sympy` failed. It appears '\n",
      "         'that the generator expression `primes[i] for i in '\n",
      "         'range(len(primes))` cannot be directly used with `sympy.summation`. '\n",
      "         'I will modify the code to use a simple sum function.\\n'\n",
      "         '\\n'}\n",
      "-----\n",
      "{'executable_code': {'code': 'primes = []\\n'\n",
      "                             'num = 3\\n'\n",
      "                             'while len(primes) < 14:\\n'\n",
      "                             '    is_prime = True\\n'\n",
      "                             '    for i in range(2, int(num**0.5) + 1):\\n'\n",
      "                             '        if num % i == 0:\\n'\n",
      "                             '            is_prime = False\\n'\n",
      "                             '            break\\n'\n",
      "                             '    if is_prime:\\n'\n",
      "                             '        primes.append(num)\\n'\n",
      "                             '    num += 2\\n'\n",
      "                             '\\n'\n",
      "                             \"print(f'{primes=}')\\n\"\n",
      "                             '\\n'\n",
      "                             'sum_of_primes = sum(primes)\\n'\n",
      "                             \"print(f'{sum_of_primes=}')\\n\",\n",
      "                     'language': 'PYTHON'}}\n",
      "-----\n",
      "{'code_execution_result': {'outcome': 'OUTCOME_OK',\n",
      "                           'output': 'primes=[3, 5, 7, 11, 13, 17, 19, 23, 29, '\n",
      "                                     '31, 37, 41, 43, 47]\\n'\n",
      "                                     'sum_of_primes=326\\n'}}\n",
      "-----\n",
      "{'text': 'The first 14 odd prime numbers are 3, 5, 7, 11, 13, 17, 19, 23, 29, '\n",
      "         '31, 37, 41, 43, and 47. Their sum is 326.\\n'}\n",
      "-----\n"
     ]
    }
   ],
   "source": [
    "from pprint import pprint\n",
    "\n",
    "config = types.GenerateContentConfig(\n",
    "    tools=[types.Tool(code_execution=types.ToolCodeExecution())],\n",
    ")\n",
    "\n",
    "code_exec_prompt = \"\"\"\n",
    "Generate the first 14 odd prime numbers, then calculate their sum.\n",
    "\"\"\"\n",
    "\n",
    "response = client.models.generate_content(\n",
    "    model='gemini-2.0-flash',\n",
    "    config=config,\n",
    "    contents=code_exec_prompt)\n",
    "\n",
    "for part in response.candidates[0].content.parts:\n",
    "  pprint(part.to_json_dict())\n",
    "  print(\"-----\")"
   ]
  },
  {
   "cell_type": "markdown",
   "id": "086b756f",
   "metadata": {
    "id": "ZspT1GSkjG6d",
    "papermill": {
     "duration": 0.016329,
     "end_time": "2025-04-16T21:32:51.997100",
     "exception": false,
     "start_time": "2025-04-16T21:32:51.980771",
     "status": "completed"
    },
    "tags": []
   },
   "source": [
    "This response contains multiple parts, including an opening and closing text part that represent regular responses, an `executable_code` part that represents generated code and a `code_execution_result` part that represents the results from running the generated code.\n",
    "\n",
    "You can explore them individually."
   ]
  },
  {
   "cell_type": "code",
   "execution_count": 34,
   "id": "f27a455f",
   "metadata": {
    "execution": {
     "iopub.execute_input": "2025-04-16T21:32:52.031689Z",
     "iopub.status.busy": "2025-04-16T21:32:52.031287Z",
     "iopub.status.idle": "2025-04-16T21:32:52.052713Z",
     "shell.execute_reply": "2025-04-16T21:32:52.051590Z"
    },
    "papermill": {
     "duration": 0.041688,
     "end_time": "2025-04-16T21:32:52.054872",
     "exception": false,
     "start_time": "2025-04-16T21:32:52.013184",
     "status": "completed"
    },
    "tags": []
   },
   "outputs": [
    {
     "data": {
      "text/markdown": [
       "Okay, I understand. First, I will generate the first 14 odd prime numbers. Remember that a prime number is a number greater than 1 that has only two divisors: 1 and itself. Also, an odd number is any integer that is not divisible by 2. The first few prime numbers are 2, 3, 5, 7, 11, and so on. Since we need odd prime numbers, we'll exclude 2. After I have identified these numbers, I will calculate their sum.\n",
       "\n"
      ],
      "text/plain": [
       "<IPython.core.display.Markdown object>"
      ]
     },
     "metadata": {},
     "output_type": "display_data"
    },
    {
     "data": {
      "text/markdown": [
       "```python\n",
       "primes = []\n",
       "num = 3\n",
       "while len(primes) < 14:\n",
       "    is_prime = True\n",
       "    for i in range(2, int(num**0.5) + 1):\n",
       "        if num % i == 0:\n",
       "            is_prime = False\n",
       "            break\n",
       "    if is_prime:\n",
       "        primes.append(num)\n",
       "    num += 2\n",
       "\n",
       "print(f'{primes=}')\n",
       "\n",
       "import sympy\n",
       "sum_of_primes = sympy.summation(primes[i] for i in range(len(primes)))\n",
       "print(f'{sum_of_primes=}')\n",
       "\n",
       "```"
      ],
      "text/plain": [
       "<IPython.core.display.Markdown object>"
      ]
     },
     "metadata": {},
     "output_type": "display_data"
    },
    {
     "data": {
      "text/markdown": [
       "```\n",
       "primes=[3, 5, 7, 11, 13, 17, 19, 23, 29, 31, 37, 41, 43, 47]\n",
       "\n",
       "```"
      ],
      "text/plain": [
       "<IPython.core.display.Markdown object>"
      ]
     },
     "metadata": {},
     "output_type": "display_data"
    },
    {
     "data": {
      "text/markdown": [
       "## Status OUTCOME_FAILED"
      ],
      "text/plain": [
       "<IPython.core.display.Markdown object>"
      ]
     },
     "metadata": {},
     "output_type": "display_data"
    },
    {
     "data": {
      "text/markdown": [
       "```\n",
       "SympifyError: \"cannot sympify object of type <class 'generator'>\"\n",
       "Traceback (most recent call last):\n",
       "  File \"/usr/bin/entry/entry_point\", line 117, in _run_python\n",
       "    exec(code, exec_scope)  # pylint: disable=exec-used\n",
       "    ^^^^^^^^^^^^^^^^^^^^^^\n",
       "  File \"<string>\", line 16, in <module>\n",
       "  File \"/usr/local/lib/python3.12/site-packages/sympy/concrete/summations.py\", line 936, in summation\n",
       "    return Sum(f, *symbols, **kwargs).doit(deep=False)\n",
       "           ^^^^^^^^^^^^^^^^^^^^^^^^^^\n",
       "  File \"/usr/local/lib/python3.12/site-packages/sympy/concrete/summations.py\", line 178, in __new__\n",
       "    obj = AddWithLimits.__new__(cls, function, *symbols, **assumptions)\n",
       "          ^^^^^^^^^^^^^^^^^^^^^^^^^^^^^^^^^^^^^^^^^^^^^^^^^^^^^^^^^^^^^\n",
       "  File \"/usr/local/lib/python3.12/site-packages/sympy/concrete/expr_with_limits.py\", line 547, in __new__\n",
       "    pre = _common_new(cls, function, *symbols,\n",
       "          ^^^^^^^^^^^^^^^^^^^^^^^^^^^^^^^^^^^^\n",
       "  File \"/usr/local/lib/python3.12/site-packages/sympy/concrete/expr_with_limits.py\", line 26, in _common_new\n",
       "    function = sympify(function)\n",
       "               ^^^^^^^^^^^^^^^^^\n",
       "  File \"/usr/local/lib/python3.12/site-packages/sympy/core/sympify.py\", line 465, in sympify\n",
       "    raise SympifyError('cannot sympify object of type %r' % type(a))\n",
       "sympy.core.sympify.SympifyError: SympifyError: \"cannot sympify object of type <class 'generator'>\"\n",
       "\n",
       "```"
      ],
      "text/plain": [
       "<IPython.core.display.Markdown object>"
      ]
     },
     "metadata": {},
     "output_type": "display_data"
    },
    {
     "data": {
      "text/markdown": [
       "My attempt to calculate the sum using `sympy` failed. It appears that the generator expression `primes[i] for i in range(len(primes))` cannot be directly used with `sympy.summation`. I will modify the code to use a simple sum function.\n",
       "\n"
      ],
      "text/plain": [
       "<IPython.core.display.Markdown object>"
      ]
     },
     "metadata": {},
     "output_type": "display_data"
    },
    {
     "data": {
      "text/markdown": [
       "```python\n",
       "primes = []\n",
       "num = 3\n",
       "while len(primes) < 14:\n",
       "    is_prime = True\n",
       "    for i in range(2, int(num**0.5) + 1):\n",
       "        if num % i == 0:\n",
       "            is_prime = False\n",
       "            break\n",
       "    if is_prime:\n",
       "        primes.append(num)\n",
       "    num += 2\n",
       "\n",
       "print(f'{primes=}')\n",
       "\n",
       "sum_of_primes = sum(primes)\n",
       "print(f'{sum_of_primes=}')\n",
       "\n",
       "```"
      ],
      "text/plain": [
       "<IPython.core.display.Markdown object>"
      ]
     },
     "metadata": {},
     "output_type": "display_data"
    },
    {
     "data": {
      "text/markdown": [
       "```\n",
       "primes=[3, 5, 7, 11, 13, 17, 19, 23, 29, 31, 37, 41, 43, 47]\n",
       "sum_of_primes=326\n",
       "\n",
       "```"
      ],
      "text/plain": [
       "<IPython.core.display.Markdown object>"
      ]
     },
     "metadata": {},
     "output_type": "display_data"
    },
    {
     "data": {
      "text/markdown": [
       "The first 14 odd prime numbers are 3, 5, 7, 11, 13, 17, 19, 23, 29, 31, 37, 41, 43, and 47. Their sum is 326.\n"
      ],
      "text/plain": [
       "<IPython.core.display.Markdown object>"
      ]
     },
     "metadata": {},
     "output_type": "display_data"
    }
   ],
   "source": [
    "for part in response.candidates[0].content.parts:\n",
    "    if part.text:\n",
    "        display(Markdown(part.text))\n",
    "    elif part.executable_code:\n",
    "        display(Markdown(f'```python\\n{part.executable_code.code}\\n```'))\n",
    "    elif part.code_execution_result:\n",
    "        if part.code_execution_result.outcome != 'OUTCOME_OK':\n",
    "            display(Markdown(f'## Status {part.code_execution_result.outcome}'))\n",
    "\n",
    "        display(Markdown(f'```\\n{part.code_execution_result.output}\\n```'))"
   ]
  },
  {
   "cell_type": "markdown",
   "id": "42d09f6e",
   "metadata": {
    "id": "1gUX8QzCj4d5",
    "papermill": {
     "duration": 0.017366,
     "end_time": "2025-04-16T21:32:52.089939",
     "exception": false,
     "start_time": "2025-04-16T21:32:52.072573",
     "status": "completed"
    },
    "tags": []
   },
   "source": [
    "### Explaining code\n",
    "\n",
    "The Gemini family of models can explain code to you too. In this example, you pass a [bash script](https://github.com/magicmonty/bash-git-prompt) and ask some questions.\n",
    "\n",
    "<table align=left>\n",
    "  <td>\n",
    "    <a target=\"_blank\" href=\"https://aistudio.google.com/prompts/1N7LGzWzCYieyOf_7bAG4plrmkpDNmUyb\"><img src=\"https://ai.google.dev/site-assets/images/marketing/home/icon-ais.png\" style=\"height: 24px\" height=24/> Open in AI Studio</a>\n",
    "  </td>\n",
    "</table>"
   ]
  },
  {
   "cell_type": "code",
   "execution_count": 35,
   "id": "4fe560c7",
   "metadata": {
    "execution": {
     "iopub.execute_input": "2025-04-16T21:32:52.126657Z",
     "iopub.status.busy": "2025-04-16T21:32:52.126267Z",
     "iopub.status.idle": "2025-04-16T21:32:54.670733Z",
     "shell.execute_reply": "2025-04-16T21:32:54.669600Z"
    },
    "id": "7_jPMMoxkIEb",
    "papermill": {
     "duration": 2.566295,
     "end_time": "2025-04-16T21:32:54.673171",
     "exception": false,
     "start_time": "2025-04-16T21:32:52.106876",
     "status": "completed"
    },
    "tags": []
   },
   "outputs": [
    {
     "data": {
      "text/markdown": [
       "This file is a shell script (likely for Bash or Zsh) that enhances your command-line prompt with information about the Git repository you're currently in.  It's commonly called `bash-git-prompt` or something similar.\n",
       "\n",
       "Here's a breakdown:\n",
       "\n",
       "*   **What it does:**  It modifies your command prompt to display useful Git-related information, such as:\n",
       "    *   The current branch name.\n",
       "    *   Whether the branch is ahead or behind the remote.\n",
       "    *   The status of the working directory (e.g., staged changes, unstaged changes, untracked files, conflicts).\n",
       "    *   Whether you are in a detached HEAD state.\n",
       "\n",
       "*   **Why you'd use it:**\n",
       "    *   **Improved workflow:** At a glance, you can see the state of your Git repository without having to run `git status` every time.\n",
       "    *   **Context awareness:** It helps you stay aware of which branch you're on, which is especially useful when working with multiple branches.\n",
       "    *   **Customization:**  It's highly configurable, allowing you to tailor the prompt to display the information that's most relevant to you, and even customize the colors used.\n",
       "\n",
       "In essence, it's a productivity booster for anyone who uses Git from the command line.  It provides real-time Git status information directly in your prompt, saving you time and keeping you informed. You'd typically source this script in your `.bashrc` or `.zshrc` file to make the changes permanent.\n"
      ],
      "text/plain": [
       "<IPython.core.display.Markdown object>"
      ]
     },
     "execution_count": 35,
     "metadata": {},
     "output_type": "execute_result"
    }
   ],
   "source": [
    "file_contents = !curl https://raw.githubusercontent.com/magicmonty/bash-git-prompt/refs/heads/master/gitprompt.sh\n",
    "\n",
    "explain_prompt = f\"\"\"\n",
    "Please explain what this file does at a very high level. What is it, and why would I use it?\n",
    "\n",
    "```\n",
    "{file_contents}\n",
    "```\n",
    "\"\"\"\n",
    "\n",
    "response = client.models.generate_content(\n",
    "    model='gemini-2.0-flash',\n",
    "    contents=explain_prompt)\n",
    "\n",
    "Markdown(response.text)"
   ]
  },
  {
   "cell_type": "markdown",
   "id": "8ce45097",
   "metadata": {
    "id": "2a8266d97ce5",
    "papermill": {
     "duration": 0.016657,
     "end_time": "2025-04-16T21:32:54.707341",
     "exception": false,
     "start_time": "2025-04-16T21:32:54.690684",
     "status": "completed"
    },
    "tags": []
   },
   "source": [
    "## Learn more\n",
    "\n",
    "To learn more about prompting in depth:\n",
    "\n",
    "* Check out the whitepaper issued with today's content,\n",
    "* Try out the apps listed at the top of this notebook ([TextFX](https://textfx.withgoogle.com/), [SQL Talk](https://sql-talk-r5gdynozbq-uc.a.run.app/) and [NotebookLM](https://notebooklm.google/)),\n",
    "* Read the [Introduction to Prompting](https://ai.google.dev/gemini-api/docs/prompting-intro) from the Gemini API docs,\n",
    "* Explore the Gemini API's [prompt gallery](https://ai.google.dev/gemini-api/prompts) and try them out in AI Studio,\n",
    "* Check out the Gemini API cookbook for [inspirational examples](https://github.com/google-gemini/cookbook/blob/main/examples/) and [educational quickstarts](https://github.com/google-gemini/cookbook/blob/main/quickstarts/).\n",
    "\n",
    "Be sure to check out the codelabs on day 3 too, where you will explore some more advanced prompting with code execution.\n",
    "\n",
    "And please share anything exciting you have tried in the Discord!\n",
    "\n",
    "*- [Mark McD](https://linktr.ee/markmcd)*"
   ]
  }
 ],
 "metadata": {
  "colab": {
   "name": "day-1-prompting.ipynb",
   "toc_visible": true
  },
  "kaggle": {
   "accelerator": "none",
   "dataSources": [],
   "dockerImageVersionId": 30786,
   "isGpuEnabled": false,
   "isInternetEnabled": true,
   "language": "python",
   "sourceType": "notebook"
  },
  "kernelspec": {
   "display_name": "Python 3",
   "language": "python",
   "name": "python3"
  },
  "language_info": {
   "codemirror_mode": {
    "name": "ipython",
    "version": 3
   },
   "file_extension": ".py",
   "mimetype": "text/x-python",
   "name": "python",
   "nbconvert_exporter": "python",
   "pygments_lexer": "ipython3",
   "version": "3.10.14"
  },
  "papermill": {
   "default_parameters": {},
   "duration": 170.268977,
   "end_time": "2025-04-16T21:32:55.446275",
   "environment_variables": {},
   "exception": null,
   "input_path": "__notebook__.ipynb",
   "output_path": "__notebook__.ipynb",
   "parameters": {},
   "start_time": "2025-04-16T21:30:05.177298",
   "version": "2.6.0"
  }
 },
 "nbformat": 4,
 "nbformat_minor": 5
}
